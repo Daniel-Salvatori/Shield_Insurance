{
 "cells": [
  {
   "cell_type": "markdown",
   "metadata": {},
   "source": [
    "# 0.0 Imports"
   ]
  },
  {
   "cell_type": "code",
   "execution_count": 161,
   "metadata": {},
   "outputs": [],
   "source": [
    "import pickle\n",
    "import optuna\n",
    "import inflection\n",
    "import numpy as np\n",
    "import pandas as pd\n",
    "import seaborn as sns\n",
    "import scikitplot as skplt\n",
    "from IPython.display import Image\n",
    "from xgboost import XGBClassifier\n",
    "from sklearn import ensemble as en\n",
    "from sklearn import neighbors as nh\n",
    "from lightgbm import LGBMClassifier\n",
    "from matplotlib import pyplot as plt\n",
    "from IPython.core.display import HTML\n",
    "from sklearn import linear_model as lm\n",
    "from catboost import CatBoostClassifier\n",
    "from sklearn import preprocessing as pp\n",
    "from sklearn import model_selection as ms\n",
    "from sklearn.ensemble import RandomForestClassifier\n",
    "from sklearn.model_selection import train_test_split, StratifiedKFold\n",
    "from sklearn.metrics import  accuracy_score, balanced_accuracy_score, roc_auc_score, top_k_accuracy_score, roc_curve,auc"
   ]
  },
  {
   "cell_type": "markdown",
   "metadata": {},
   "source": [
    "# 0.1 Helper Functions"
   ]
  },
  {
   "cell_type": "code",
   "execution_count": 162,
   "metadata": {},
   "outputs": [],
   "source": [
    "def numerical_metrics(num_attributes):\n",
    "    #ct = central tendency\n",
    "    ct_mean = pd.DataFrame(num_attributes.apply(np.mean)).T\n",
    "    ct_median = pd.DataFrame(num_attributes.apply(np.median)).T\n",
    "\n",
    "    #d = dispersion\n",
    "    d_std = pd.DataFrame(num_attributes.apply(np.std)).T\n",
    "    d_min = pd.DataFrame(num_attributes.apply(min)).T\n",
    "    d_max = pd.DataFrame(num_attributes.apply(max)).T\n",
    "    d_range = pd.DataFrame(num_attributes.apply(lambda x: x.max() - x.min())).T\n",
    "    d_skew = pd.DataFrame(num_attributes.apply(lambda x: x.skew())).T\n",
    "    d_kurtosis = pd.DataFrame(num_attributes.apply(lambda x: x.kurtosis())).T\n",
    "\n",
    "    #concat\n",
    "    num_desc = pd.concat([d_min,d_max,d_range,ct_mean,ct_median,d_std,d_skew,d_kurtosis]).T.reset_index()\n",
    "    num_desc.columns=['attributes','min','max','range','mean','median','std','skew','kurtosis']\n",
    "\n",
    "    return num_desc\n",
    "\n",
    "def graphic_percentage(ax,total):\n",
    "    for p in ax.patches:\n",
    "        height = p.get_height()\n",
    "        ax.text(p.get_x() + p.get_width()/2.,height,'{:1.2f}%'.format(height/total*100),ha='center',weight='bold')\n",
    "\n",
    "\n",
    "def precision_at_k( data, k=20000 ):\n",
    "    \n",
    "    data = data.reset_index( drop=True )\n",
    "    \n",
    "    #ranking order\n",
    "    data['ranking'] = data.index + 1\n",
    "    \n",
    "    data['precision_at_k'] = data['response'].cumsum() / data['ranking']\n",
    "    \n",
    "    return data.loc[ k, 'precision_at_k']\n",
    "\n",
    "def recall_at_k( data, k=20000 ):\n",
    "    data = data.reset_index( drop=True )\n",
    "    data['ranking'] = data.index + 1\n",
    "    \n",
    "    data['recall_at_k'] = (data['response'].cumsum() / data['response'].sum() )\n",
    "    \n",
    "    return data.loc[ k, 'recall_at_k']\n",
    "\n",
    " \n",
    "\n",
    "def cross_validation(model,x_train,y_train,k, verbose=True):\n",
    "    \n",
    "    kfold = StratifiedKFold(n_splits=k,shuffle=True,random_state=42)\n",
    "    \n",
    "    accuracy_balanced_list = []\n",
    "    precision_k_list = [] \n",
    "    recall_k_list = []  \n",
    "    auc_roc_list = []\n",
    "    top_k_list = []\n",
    "    i = 1\n",
    "    \n",
    "    for train_cv, val_cv in kfold.split(x_train,y_train):\n",
    "        \n",
    "        if verbose == True:    \n",
    "            print(f'Fold Number {i}/{k}') \n",
    "        else:\n",
    "            pass\n",
    "        \n",
    "        x_train_fold = x_train.iloc[train_cv]\n",
    "        y_train_fold = y_train.iloc[train_cv]\n",
    "        \n",
    "        x_val_fold = x_train.iloc[val_cv]\n",
    "        y_val_fold = y_train.iloc[val_cv]\n",
    "        \n",
    "        model.fit(x_train_fold,y_train_fold)\n",
    "        \n",
    "        yhat_model = model.predict(x_val_fold)\n",
    "        yhat_proba = model.predict_proba(x_val_fold)\n",
    "\n",
    "        # Create data to make the precision and recall k and sorted by score\n",
    "        data = pd.DataFrame()\n",
    "        \n",
    "        data = x_val_fold.copy()\n",
    "        data['response'] = y_val_fold.copy()\n",
    "        data['score'] = yhat_proba[:,1].tolist()\n",
    "        data = data.sort_values('score',ascending=False)\n",
    "        \n",
    "        knum = y_val_fold.value_counts().count()-1\n",
    "\n",
    "        # Balanced Accuracy\n",
    "        accuracy_balanced = balanced_accuracy_score(y_val_fold,yhat_model)\n",
    "        accuracy_balanced_list.append(accuracy_balanced)\n",
    "        \n",
    "        # ROC AUC SCORE\n",
    "        auc_roc = roc_auc_score(y_val_fold, yhat_proba[:, 1])\n",
    "        auc_roc_list.append(auc_roc)\n",
    "        \n",
    "        # TOP K SCORE\n",
    "        top_k = top_k_accuracy_score(y_val_fold,yhat_model,k=knum)\n",
    "        top_k_list.append(top_k)\n",
    "             \n",
    "        # Precision at K\n",
    "        precision_k = precision_at_k(data,20000)\n",
    "        precision_k_list.append(precision_k)\n",
    "        \n",
    "        # Recall at K\n",
    "        recall_k = recall_at_k(data,20000)\n",
    "        recall_k_list.append(recall_k)\n",
    "        i = i + 1\n",
    "        \n",
    "    df = pd.DataFrame({'Model Name': type(model).__name__ + ' ' + 'CV',\n",
    "                       'Model Accuracy': np.round( np.mean(accuracy_balanced_list), 3 ).astype( str ) + '+/-' + np.round( np.std( accuracy_balanced_list), 3).astype( str ),\n",
    "                       'Precision @K Mean': np.round( np.mean(precision_k_list), 3).astype( str ) + '+/-' + np.round( np.std( precision_k_list), 3).astype( str ),\n",
    "                       'Recall @K Mean': np.round( np.mean(recall_k_list), 3).astype( str ) + '+/-' + np.round( np.std( recall_k_list), 3).astype( str ),\n",
    "                       'ROC AUC Score': np.round( np.mean(auc_roc_list), 3).astype( str ) + '+/-' + np.round( np.std( auc_roc_list), 3).astype( str ),\n",
    "                       'Top @K Mean': np.round( np.mean(top_k_list), 3).astype( str ) + '+/-' + np.round( np.std( top_k_list), 3).astype( str )  },index = [0])\n",
    "    return df    \n"
   ]
  },
  {
   "cell_type": "code",
   "execution_count": 163,
   "metadata": {},
   "outputs": [],
   "source": [
    " # Metrics @ k\n",
    "def metrics_at_k(model, x_train, y_train, x_val, y_val, k=20000, sort=True, verbose=False):\n",
    "    \n",
    "    # model training\n",
    "    model.fit(x_train, y_train)\n",
    "\n",
    "    # model prediction\n",
    "    yhat_model = model.predict(x_val)\n",
    "    yhat_proba = model.predict_proba(x_val)\n",
    "\n",
    "    # copy data\n",
    "    data = x_val.copy()\n",
    "    data['response'] = y_val.copy()\n",
    "\n",
    "    # propensity score\n",
    "    data['score'] = yhat_proba[:, 1].tolist()\n",
    "\n",
    "    # sort clients by propensity score\n",
    "    data = data.sort_values('score', ascending=False)\n",
    "\n",
    "    knum = y_val.value_counts().count()-1\n",
    "\n",
    "    acc_score = accuracy_score( y_val, yhat_model )\n",
    "    precision = precision_at_k(data)\n",
    "    recall = recall_at_k(data)\n",
    "    roc_auc = roc_auc_score(y_val,yhat_proba[:, 1])\n",
    "    top_k = top_k_accuracy_score(y_val, yhat_model,k=knum)\n",
    "    \n",
    "\n",
    "    df = pd.DataFrame({'Model_Name': type(model).__name__, \n",
    "                       'Model Accuracy': acc_score,\n",
    "                       'Precision @K': precision,\n",
    "                       'Recall @K': recall,\n",
    "                       'ROC AUC Score': roc_auc,\n",
    "                       'Top K Score': top_k }, index=[0])\n",
    "\n",
    "  \n",
    "    return df"
   ]
  },
  {
   "cell_type": "code",
   "execution_count": 164,
   "metadata": {},
   "outputs": [],
   "source": [
    "def jupyter_settings():\n",
    "    %matplotlib inline\n",
    "    %pylab inline\n",
    "    plt.style.use( 'bmh' )\n",
    "    plt.rcParams['figure.figsize'] = [20, 10]\n",
    "    plt.rcParams['font.size'] = 20\n",
    "    display(HTML( '<style>.container { width:100% !important; }</style>'))\n",
    "    pd.options.display.max_columns = None\n",
    "    pd.options.display.max_rows = None\n",
    "    pd.set_option( 'display.expand_frame_repr', False )\n",
    "    sns.set()"
   ]
  },
  {
   "cell_type": "code",
   "execution_count": 165,
   "metadata": {},
   "outputs": [
    {
     "name": "stdout",
     "output_type": "stream",
     "text": [
      "%pylab is deprecated, use %matplotlib inline and import the required libraries.\n",
      "Populating the interactive namespace from numpy and matplotlib\n"
     ]
    },
    {
     "name": "stderr",
     "output_type": "stream",
     "text": [
      "c:\\Users\\Codo\\anaconda3\\envs\\env1\\lib\\site-packages\\IPython\\core\\magics\\pylab.py:162: UserWarning:\n",
      "\n",
      "pylab import has clobbered these variables: ['f']\n",
      "`%matplotlib` prevents importing * from pylab and numpy\n",
      "\n"
     ]
    },
    {
     "data": {
      "text/html": [
       "<style>.container { width:100% !important; }</style>"
      ],
      "text/plain": [
       "<IPython.core.display.HTML object>"
      ]
     },
     "metadata": {},
     "output_type": "display_data"
    }
   ],
   "source": [
    "jupyter_settings()"
   ]
  },
  {
   "cell_type": "markdown",
   "metadata": {},
   "source": [
    "## 0.2 Loading Dataset"
   ]
  },
  {
   "cell_type": "code",
   "execution_count": 166,
   "metadata": {},
   "outputs": [],
   "source": [
    "path = 'C:\\\\Users\\\\Codo\\Desktop\\\\repos\\\\PA_health_insurance\\\\data\\\\train.csv'\n",
    "df_raw = pd.read_csv(path)"
   ]
  },
  {
   "cell_type": "code",
   "execution_count": 167,
   "metadata": {},
   "outputs": [],
   "source": [
    "df_test = pd.read_csv( 'C:\\\\Users\\\\Codo\\Desktop\\\\repos\\\\PA_health_insurance\\\\data\\\\test.csv')"
   ]
  },
  {
   "cell_type": "markdown",
   "metadata": {},
   "source": [
    "# 1.0 Data Description"
   ]
  },
  {
   "cell_type": "code",
   "execution_count": 168,
   "metadata": {},
   "outputs": [],
   "source": [
    "df1 = df_raw.copy()"
   ]
  },
  {
   "cell_type": "code",
   "execution_count": 169,
   "metadata": {},
   "outputs": [],
   "source": [
    "cols_old = ['id', 'Gender', 'Age', 'Driving_License', 'Region_Code',\n",
    "            'Previously_Insured', 'Vehicle_Age', 'Vehicle_Damage', 'Annual_Premium',\n",
    "            'Policy_Sales_Channel', 'Vintage', 'Response']\n",
    "\n",
    "# Rename columns\n",
    "snakecase = lambda x: inflection.underscore(x)\n",
    "cols_new = list(map(snakecase, cols_old))\n",
    "df1.columns = cols_new"
   ]
  },
  {
   "cell_type": "code",
   "execution_count": 170,
   "metadata": {},
   "outputs": [
    {
     "data": {
      "text/html": [
       "<div>\n",
       "<style scoped>\n",
       "    .dataframe tbody tr th:only-of-type {\n",
       "        vertical-align: middle;\n",
       "    }\n",
       "\n",
       "    .dataframe tbody tr th {\n",
       "        vertical-align: top;\n",
       "    }\n",
       "\n",
       "    .dataframe thead th {\n",
       "        text-align: right;\n",
       "    }\n",
       "</style>\n",
       "<table border=\"1\" class=\"dataframe\">\n",
       "  <thead>\n",
       "    <tr style=\"text-align: right;\">\n",
       "      <th></th>\n",
       "      <th>id</th>\n",
       "      <th>gender</th>\n",
       "      <th>age</th>\n",
       "      <th>driving_license</th>\n",
       "      <th>region_code</th>\n",
       "      <th>previously_insured</th>\n",
       "      <th>vehicle_age</th>\n",
       "      <th>vehicle_damage</th>\n",
       "      <th>annual_premium</th>\n",
       "      <th>policy_sales_channel</th>\n",
       "      <th>vintage</th>\n",
       "      <th>response</th>\n",
       "    </tr>\n",
       "  </thead>\n",
       "  <tbody>\n",
       "    <tr>\n",
       "      <th>0</th>\n",
       "      <td>1</td>\n",
       "      <td>Male</td>\n",
       "      <td>44</td>\n",
       "      <td>1</td>\n",
       "      <td>28.0</td>\n",
       "      <td>0</td>\n",
       "      <td>&gt; 2 Years</td>\n",
       "      <td>Yes</td>\n",
       "      <td>40454.0</td>\n",
       "      <td>26.0</td>\n",
       "      <td>217</td>\n",
       "      <td>1</td>\n",
       "    </tr>\n",
       "    <tr>\n",
       "      <th>1</th>\n",
       "      <td>2</td>\n",
       "      <td>Male</td>\n",
       "      <td>76</td>\n",
       "      <td>1</td>\n",
       "      <td>3.0</td>\n",
       "      <td>0</td>\n",
       "      <td>1-2 Year</td>\n",
       "      <td>No</td>\n",
       "      <td>33536.0</td>\n",
       "      <td>26.0</td>\n",
       "      <td>183</td>\n",
       "      <td>0</td>\n",
       "    </tr>\n",
       "    <tr>\n",
       "      <th>2</th>\n",
       "      <td>3</td>\n",
       "      <td>Male</td>\n",
       "      <td>47</td>\n",
       "      <td>1</td>\n",
       "      <td>28.0</td>\n",
       "      <td>0</td>\n",
       "      <td>&gt; 2 Years</td>\n",
       "      <td>Yes</td>\n",
       "      <td>38294.0</td>\n",
       "      <td>26.0</td>\n",
       "      <td>27</td>\n",
       "      <td>1</td>\n",
       "    </tr>\n",
       "    <tr>\n",
       "      <th>3</th>\n",
       "      <td>4</td>\n",
       "      <td>Male</td>\n",
       "      <td>21</td>\n",
       "      <td>1</td>\n",
       "      <td>11.0</td>\n",
       "      <td>1</td>\n",
       "      <td>&lt; 1 Year</td>\n",
       "      <td>No</td>\n",
       "      <td>28619.0</td>\n",
       "      <td>152.0</td>\n",
       "      <td>203</td>\n",
       "      <td>0</td>\n",
       "    </tr>\n",
       "    <tr>\n",
       "      <th>4</th>\n",
       "      <td>5</td>\n",
       "      <td>Female</td>\n",
       "      <td>29</td>\n",
       "      <td>1</td>\n",
       "      <td>41.0</td>\n",
       "      <td>1</td>\n",
       "      <td>&lt; 1 Year</td>\n",
       "      <td>No</td>\n",
       "      <td>27496.0</td>\n",
       "      <td>152.0</td>\n",
       "      <td>39</td>\n",
       "      <td>0</td>\n",
       "    </tr>\n",
       "  </tbody>\n",
       "</table>\n",
       "</div>"
      ],
      "text/plain": [
       "   id  gender  age  driving_license  region_code  previously_insured vehicle_age vehicle_damage  annual_premium  policy_sales_channel  vintage  response\n",
       "0   1    Male   44                1         28.0                   0   > 2 Years            Yes         40454.0                  26.0      217         1\n",
       "1   2    Male   76                1          3.0                   0    1-2 Year             No         33536.0                  26.0      183         0\n",
       "2   3    Male   47                1         28.0                   0   > 2 Years            Yes         38294.0                  26.0       27         1\n",
       "3   4    Male   21                1         11.0                   1    < 1 Year             No         28619.0                 152.0      203         0\n",
       "4   5  Female   29                1         41.0                   1    < 1 Year             No         27496.0                 152.0       39         0"
      ]
     },
     "execution_count": 170,
     "metadata": {},
     "output_type": "execute_result"
    }
   ],
   "source": [
    "df1.head()"
   ]
  },
  {
   "cell_type": "markdown",
   "metadata": {},
   "source": [
    "## 1.1 Data Dimension"
   ]
  },
  {
   "cell_type": "code",
   "execution_count": 171,
   "metadata": {},
   "outputs": [
    {
     "name": "stdout",
     "output_type": "stream",
     "text": [
      "Number of Rows: 381109\n",
      "Number of Columns: 12\n"
     ]
    }
   ],
   "source": [
    "print( 'Number of Rows: {}'.format( df1.shape[0] ) )\n",
    "print( 'Number of Columns: {}'.format( df1.shape[1] ) )"
   ]
  },
  {
   "cell_type": "markdown",
   "metadata": {},
   "source": [
    "## 1.2 Data Types"
   ]
  },
  {
   "cell_type": "code",
   "execution_count": 172,
   "metadata": {},
   "outputs": [
    {
     "data": {
      "text/plain": [
       "id                        int64\n",
       "gender                   object\n",
       "age                       int64\n",
       "driving_license           int64\n",
       "region_code             float64\n",
       "previously_insured        int64\n",
       "vehicle_age              object\n",
       "vehicle_damage           object\n",
       "annual_premium          float64\n",
       "policy_sales_channel    float64\n",
       "vintage                   int64\n",
       "response                  int64\n",
       "dtype: object"
      ]
     },
     "execution_count": 172,
     "metadata": {},
     "output_type": "execute_result"
    }
   ],
   "source": [
    "df1.dtypes"
   ]
  },
  {
   "cell_type": "code",
   "execution_count": 173,
   "metadata": {},
   "outputs": [],
   "source": [
    "# convert float to int\n",
    "df1['region_code'] = df1['region_code'].astype('int64')\n",
    "df1['policy_sales_channel'] = df1['policy_sales_channel'].astype('int64')"
   ]
  },
  {
   "cell_type": "markdown",
   "metadata": {},
   "source": [
    "## 1.3 Check NA"
   ]
  },
  {
   "cell_type": "code",
   "execution_count": 174,
   "metadata": {},
   "outputs": [
    {
     "data": {
      "text/plain": [
       "id                      0\n",
       "gender                  0\n",
       "age                     0\n",
       "driving_license         0\n",
       "region_code             0\n",
       "previously_insured      0\n",
       "vehicle_age             0\n",
       "vehicle_damage          0\n",
       "annual_premium          0\n",
       "policy_sales_channel    0\n",
       "vintage                 0\n",
       "response                0\n",
       "dtype: int64"
      ]
     },
     "execution_count": 174,
     "metadata": {},
     "output_type": "execute_result"
    }
   ],
   "source": [
    "df1.isna().sum()"
   ]
  },
  {
   "cell_type": "markdown",
   "metadata": {},
   "source": [
    "## 1.4 Check balance data"
   ]
  },
  {
   "cell_type": "code",
   "execution_count": 175,
   "metadata": {},
   "outputs": [
    {
     "data": {
      "image/png": "[encoded data removed]",
      "text/plain": [
       "<Figure size 1440x720 with 1 Axes>"
      ]
     },
     "metadata": {},
     "output_type": "display_data"
    }
   ],
   "source": [
    "ax = plt.subplot (1,1,1)\n",
    "ax.set_title('Interested Customers ')\n",
    "aux_balance=df1['response'].value_counts()\n",
    "ax = plt.pie( aux_balance, labels=['Not Interested', 'Interested'], autopct=\"%0.1f%%\", explode=[0.1,0.2], radius=1, shadow= bool, colors=['#D6D6D6','#4A76AC'] );\n"
   ]
  },
  {
   "cell_type": "markdown",
   "metadata": {},
   "source": [
    "## 1.5 Data Descriptive"
   ]
  },
  {
   "cell_type": "markdown",
   "metadata": {},
   "source": [
    "### 1.5.1 Numerical Attributes"
   ]
  },
  {
   "cell_type": "code",
   "execution_count": 176,
   "metadata": {},
   "outputs": [],
   "source": [
    "num_attributes = df1.select_dtypes(include=['int64', 'float64'])\n",
    "cat_attributes = df1.select_dtypes(exclude=['int64', 'float64', 'datetime64[ns]'])"
   ]
  },
  {
   "cell_type": "code",
   "execution_count": 25,
   "metadata": {},
   "outputs": [
    {
     "data": {
      "text/html": [
       "<div>\n",
       "<style scoped>\n",
       "    .dataframe tbody tr th:only-of-type {\n",
       "        vertical-align: middle;\n",
       "    }\n",
       "\n",
       "    .dataframe tbody tr th {\n",
       "        vertical-align: top;\n",
       "    }\n",
       "\n",
       "    .dataframe thead th {\n",
       "        text-align: right;\n",
       "    }\n",
       "</style>\n",
       "<table border=\"1\" class=\"dataframe\">\n",
       "  <thead>\n",
       "    <tr style=\"text-align: right;\">\n",
       "      <th></th>\n",
       "      <th>attributes</th>\n",
       "      <th>min</th>\n",
       "      <th>max</th>\n",
       "      <th>range</th>\n",
       "      <th>mean</th>\n",
       "      <th>median</th>\n",
       "      <th>std</th>\n",
       "      <th>skew</th>\n",
       "      <th>kurtosis</th>\n",
       "    </tr>\n",
       "  </thead>\n",
       "  <tbody>\n",
       "    <tr>\n",
       "      <th>0</th>\n",
       "      <td>id</td>\n",
       "      <td>1.0</td>\n",
       "      <td>381109.0</td>\n",
       "      <td>381108.0</td>\n",
       "      <td>190555.000000</td>\n",
       "      <td>190555.0</td>\n",
       "      <td>110016.691870</td>\n",
       "      <td>9.443274e-16</td>\n",
       "      <td>-1.200000</td>\n",
       "    </tr>\n",
       "    <tr>\n",
       "      <th>1</th>\n",
       "      <td>age</td>\n",
       "      <td>20.0</td>\n",
       "      <td>85.0</td>\n",
       "      <td>65.0</td>\n",
       "      <td>38.822584</td>\n",
       "      <td>36.0</td>\n",
       "      <td>15.511591</td>\n",
       "      <td>6.725390e-01</td>\n",
       "      <td>-0.565655</td>\n",
       "    </tr>\n",
       "    <tr>\n",
       "      <th>2</th>\n",
       "      <td>driving_license</td>\n",
       "      <td>0.0</td>\n",
       "      <td>1.0</td>\n",
       "      <td>1.0</td>\n",
       "      <td>0.997869</td>\n",
       "      <td>1.0</td>\n",
       "      <td>0.046109</td>\n",
       "      <td>-2.159518e+01</td>\n",
       "      <td>464.354302</td>\n",
       "    </tr>\n",
       "    <tr>\n",
       "      <th>3</th>\n",
       "      <td>region_code</td>\n",
       "      <td>0.0</td>\n",
       "      <td>52.0</td>\n",
       "      <td>52.0</td>\n",
       "      <td>26.388807</td>\n",
       "      <td>28.0</td>\n",
       "      <td>13.229871</td>\n",
       "      <td>-1.152664e-01</td>\n",
       "      <td>-0.867857</td>\n",
       "    </tr>\n",
       "    <tr>\n",
       "      <th>4</th>\n",
       "      <td>previously_insured</td>\n",
       "      <td>0.0</td>\n",
       "      <td>1.0</td>\n",
       "      <td>1.0</td>\n",
       "      <td>0.458210</td>\n",
       "      <td>0.0</td>\n",
       "      <td>0.498251</td>\n",
       "      <td>1.677471e-01</td>\n",
       "      <td>-1.971871</td>\n",
       "    </tr>\n",
       "    <tr>\n",
       "      <th>5</th>\n",
       "      <td>annual_premium</td>\n",
       "      <td>2630.0</td>\n",
       "      <td>540165.0</td>\n",
       "      <td>537535.0</td>\n",
       "      <td>30564.389581</td>\n",
       "      <td>31669.0</td>\n",
       "      <td>17213.132474</td>\n",
       "      <td>1.766087e+00</td>\n",
       "      <td>34.004569</td>\n",
       "    </tr>\n",
       "    <tr>\n",
       "      <th>6</th>\n",
       "      <td>policy_sales_channel</td>\n",
       "      <td>1.0</td>\n",
       "      <td>163.0</td>\n",
       "      <td>162.0</td>\n",
       "      <td>112.034295</td>\n",
       "      <td>133.0</td>\n",
       "      <td>54.203924</td>\n",
       "      <td>-9.000081e-01</td>\n",
       "      <td>-0.970810</td>\n",
       "    </tr>\n",
       "    <tr>\n",
       "      <th>7</th>\n",
       "      <td>vintage</td>\n",
       "      <td>10.0</td>\n",
       "      <td>299.0</td>\n",
       "      <td>289.0</td>\n",
       "      <td>154.347397</td>\n",
       "      <td>154.0</td>\n",
       "      <td>83.671194</td>\n",
       "      <td>3.029517e-03</td>\n",
       "      <td>-1.200688</td>\n",
       "    </tr>\n",
       "    <tr>\n",
       "      <th>8</th>\n",
       "      <td>response</td>\n",
       "      <td>0.0</td>\n",
       "      <td>1.0</td>\n",
       "      <td>1.0</td>\n",
       "      <td>0.122563</td>\n",
       "      <td>0.0</td>\n",
       "      <td>0.327935</td>\n",
       "      <td>2.301906e+00</td>\n",
       "      <td>3.298788</td>\n",
       "    </tr>\n",
       "  </tbody>\n",
       "</table>\n",
       "</div>"
      ],
      "text/plain": [
       "             attributes     min       max     range           mean    median            std          skew    kurtosis\n",
       "0                    id     1.0  381109.0  381108.0  190555.000000  190555.0  110016.691870  9.443274e-16   -1.200000\n",
       "1                   age    20.0      85.0      65.0      38.822584      36.0      15.511591  6.725390e-01   -0.565655\n",
       "2       driving_license     0.0       1.0       1.0       0.997869       1.0       0.046109 -2.159518e+01  464.354302\n",
       "3           region_code     0.0      52.0      52.0      26.388807      28.0      13.229871 -1.152664e-01   -0.867857\n",
       "4    previously_insured     0.0       1.0       1.0       0.458210       0.0       0.498251  1.677471e-01   -1.971871\n",
       "5        annual_premium  2630.0  540165.0  537535.0   30564.389581   31669.0   17213.132474  1.766087e+00   34.004569\n",
       "6  policy_sales_channel     1.0     163.0     162.0     112.034295     133.0      54.203924 -9.000081e-01   -0.970810\n",
       "7               vintage    10.0     299.0     289.0     154.347397     154.0      83.671194  3.029517e-03   -1.200688\n",
       "8              response     0.0       1.0       1.0       0.122563       0.0       0.327935  2.301906e+00    3.298788"
      ]
     },
     "execution_count": 25,
     "metadata": {},
     "output_type": "execute_result"
    }
   ],
   "source": [
    "numerical_metrics(num_attributes)"
   ]
  },
  {
   "cell_type": "code",
   "execution_count": 177,
   "metadata": {},
   "outputs": [
    {
     "data": {
      "text/html": [
       "<div>\n",
       "<style scoped>\n",
       "    .dataframe tbody tr th:only-of-type {\n",
       "        vertical-align: middle;\n",
       "    }\n",
       "\n",
       "    .dataframe tbody tr th {\n",
       "        vertical-align: top;\n",
       "    }\n",
       "\n",
       "    .dataframe thead th {\n",
       "        text-align: right;\n",
       "    }\n",
       "</style>\n",
       "<table border=\"1\" class=\"dataframe\">\n",
       "  <thead>\n",
       "    <tr style=\"text-align: right;\">\n",
       "      <th></th>\n",
       "      <th>count</th>\n",
       "      <th>mean</th>\n",
       "      <th>std</th>\n",
       "      <th>min</th>\n",
       "      <th>25%</th>\n",
       "      <th>50%</th>\n",
       "      <th>75%</th>\n",
       "      <th>max</th>\n",
       "    </tr>\n",
       "  </thead>\n",
       "  <tbody>\n",
       "    <tr>\n",
       "      <th>id</th>\n",
       "      <td>381109.0</td>\n",
       "      <td>190555.000000</td>\n",
       "      <td>110016.836208</td>\n",
       "      <td>1.0</td>\n",
       "      <td>95278.0</td>\n",
       "      <td>190555.0</td>\n",
       "      <td>285832.0</td>\n",
       "      <td>381109.0</td>\n",
       "    </tr>\n",
       "    <tr>\n",
       "      <th>age</th>\n",
       "      <td>381109.0</td>\n",
       "      <td>38.822584</td>\n",
       "      <td>15.511611</td>\n",
       "      <td>20.0</td>\n",
       "      <td>25.0</td>\n",
       "      <td>36.0</td>\n",
       "      <td>49.0</td>\n",
       "      <td>85.0</td>\n",
       "    </tr>\n",
       "    <tr>\n",
       "      <th>driving_license</th>\n",
       "      <td>381109.0</td>\n",
       "      <td>0.997869</td>\n",
       "      <td>0.046110</td>\n",
       "      <td>0.0</td>\n",
       "      <td>1.0</td>\n",
       "      <td>1.0</td>\n",
       "      <td>1.0</td>\n",
       "      <td>1.0</td>\n",
       "    </tr>\n",
       "    <tr>\n",
       "      <th>region_code</th>\n",
       "      <td>381109.0</td>\n",
       "      <td>26.388807</td>\n",
       "      <td>13.229888</td>\n",
       "      <td>0.0</td>\n",
       "      <td>15.0</td>\n",
       "      <td>28.0</td>\n",
       "      <td>35.0</td>\n",
       "      <td>52.0</td>\n",
       "    </tr>\n",
       "    <tr>\n",
       "      <th>previously_insured</th>\n",
       "      <td>381109.0</td>\n",
       "      <td>0.458210</td>\n",
       "      <td>0.498251</td>\n",
       "      <td>0.0</td>\n",
       "      <td>0.0</td>\n",
       "      <td>0.0</td>\n",
       "      <td>1.0</td>\n",
       "      <td>1.0</td>\n",
       "    </tr>\n",
       "    <tr>\n",
       "      <th>annual_premium</th>\n",
       "      <td>381109.0</td>\n",
       "      <td>30564.389581</td>\n",
       "      <td>17213.155057</td>\n",
       "      <td>2630.0</td>\n",
       "      <td>24405.0</td>\n",
       "      <td>31669.0</td>\n",
       "      <td>39400.0</td>\n",
       "      <td>540165.0</td>\n",
       "    </tr>\n",
       "    <tr>\n",
       "      <th>policy_sales_channel</th>\n",
       "      <td>381109.0</td>\n",
       "      <td>112.034295</td>\n",
       "      <td>54.203995</td>\n",
       "      <td>1.0</td>\n",
       "      <td>29.0</td>\n",
       "      <td>133.0</td>\n",
       "      <td>152.0</td>\n",
       "      <td>163.0</td>\n",
       "    </tr>\n",
       "    <tr>\n",
       "      <th>vintage</th>\n",
       "      <td>381109.0</td>\n",
       "      <td>154.347397</td>\n",
       "      <td>83.671304</td>\n",
       "      <td>10.0</td>\n",
       "      <td>82.0</td>\n",
       "      <td>154.0</td>\n",
       "      <td>227.0</td>\n",
       "      <td>299.0</td>\n",
       "    </tr>\n",
       "    <tr>\n",
       "      <th>response</th>\n",
       "      <td>381109.0</td>\n",
       "      <td>0.122563</td>\n",
       "      <td>0.327936</td>\n",
       "      <td>0.0</td>\n",
       "      <td>0.0</td>\n",
       "      <td>0.0</td>\n",
       "      <td>0.0</td>\n",
       "      <td>1.0</td>\n",
       "    </tr>\n",
       "  </tbody>\n",
       "</table>\n",
       "</div>"
      ],
      "text/plain": [
       "                         count           mean            std     min      25%       50%       75%       max\n",
       "id                    381109.0  190555.000000  110016.836208     1.0  95278.0  190555.0  285832.0  381109.0\n",
       "age                   381109.0      38.822584      15.511611    20.0     25.0      36.0      49.0      85.0\n",
       "driving_license       381109.0       0.997869       0.046110     0.0      1.0       1.0       1.0       1.0\n",
       "region_code           381109.0      26.388807      13.229888     0.0     15.0      28.0      35.0      52.0\n",
       "previously_insured    381109.0       0.458210       0.498251     0.0      0.0       0.0       1.0       1.0\n",
       "annual_premium        381109.0   30564.389581   17213.155057  2630.0  24405.0   31669.0   39400.0  540165.0\n",
       "policy_sales_channel  381109.0     112.034295      54.203995     1.0     29.0     133.0     152.0     163.0\n",
       "vintage               381109.0     154.347397      83.671304    10.0     82.0     154.0     227.0     299.0\n",
       "response              381109.0       0.122563       0.327936     0.0      0.0       0.0       0.0       1.0"
      ]
     },
     "execution_count": 177,
     "metadata": {},
     "output_type": "execute_result"
    }
   ],
   "source": [
    "num_attributes.describe().T"
   ]
  },
  {
   "cell_type": "code",
   "execution_count": 178,
   "metadata": {},
   "outputs": [
    {
     "data": {
      "image/png": "[encoded data removed]",
      "text/plain": [
       "<Figure size 1440x720 with 9 Axes>"
      ]
     },
     "metadata": {},
     "output_type": "display_data"
    }
   ],
   "source": [
    "num_attributes.hist(bins=25);"
   ]
  },
  {
   "cell_type": "markdown",
   "metadata": {},
   "source": [
    "### 1.5.2 Categorical Attributes"
   ]
  },
  {
   "cell_type": "code",
   "execution_count": 179,
   "metadata": {},
   "outputs": [
    {
     "data": {
      "text/html": [
       "<div>\n",
       "<style scoped>\n",
       "    .dataframe tbody tr th:only-of-type {\n",
       "        vertical-align: middle;\n",
       "    }\n",
       "\n",
       "    .dataframe tbody tr th {\n",
       "        vertical-align: top;\n",
       "    }\n",
       "\n",
       "    .dataframe thead th {\n",
       "        text-align: right;\n",
       "    }\n",
       "</style>\n",
       "<table border=\"1\" class=\"dataframe\">\n",
       "  <thead>\n",
       "    <tr style=\"text-align: right;\">\n",
       "      <th></th>\n",
       "      <th>gender</th>\n",
       "      <th>vehicle_age</th>\n",
       "      <th>vehicle_damage</th>\n",
       "    </tr>\n",
       "  </thead>\n",
       "  <tbody>\n",
       "    <tr>\n",
       "      <th>count</th>\n",
       "      <td>381109</td>\n",
       "      <td>381109</td>\n",
       "      <td>381109</td>\n",
       "    </tr>\n",
       "    <tr>\n",
       "      <th>unique</th>\n",
       "      <td>2</td>\n",
       "      <td>3</td>\n",
       "      <td>2</td>\n",
       "    </tr>\n",
       "    <tr>\n",
       "      <th>top</th>\n",
       "      <td>Male</td>\n",
       "      <td>1-2 Year</td>\n",
       "      <td>Yes</td>\n",
       "    </tr>\n",
       "    <tr>\n",
       "      <th>freq</th>\n",
       "      <td>206089</td>\n",
       "      <td>200316</td>\n",
       "      <td>192413</td>\n",
       "    </tr>\n",
       "  </tbody>\n",
       "</table>\n",
       "</div>"
      ],
      "text/plain": [
       "        gender vehicle_age vehicle_damage\n",
       "count   381109      381109         381109\n",
       "unique       2           3              2\n",
       "top       Male    1-2 Year            Yes\n",
       "freq    206089      200316         192413"
      ]
     },
     "execution_count": 179,
     "metadata": {},
     "output_type": "execute_result"
    }
   ],
   "source": [
    "cat_attributes.describe()"
   ]
  },
  {
   "cell_type": "markdown",
   "metadata": {},
   "source": [
    "# 2.0 Feature Engineering"
   ]
  },
  {
   "cell_type": "code",
   "execution_count": 180,
   "metadata": {},
   "outputs": [],
   "source": [
    "df2 = df1.copy()"
   ]
  },
  {
   "cell_type": "code",
   "execution_count": 181,
   "metadata": {},
   "outputs": [
    {
     "data": {
      "text/plain": [
       "array(['> 2 Years', '1-2 Year', '< 1 Year'], dtype=object)"
      ]
     },
     "execution_count": 181,
     "metadata": {},
     "output_type": "execute_result"
    }
   ],
   "source": [
    "df2['vehicle_age'].unique()"
   ]
  },
  {
   "cell_type": "code",
   "execution_count": 182,
   "metadata": {},
   "outputs": [],
   "source": [
    "# vehicle_damage\n",
    "df2['vehicle_damage'] = df2['vehicle_damage'].apply( lambda x: 1 if x == 'Yes' else 0 )\n",
    "\n",
    "# vehicle_age\n",
    "df2['vehicle_age'] = df2['vehicle_age']. apply( lambda x: 'over_2_years' if x == '> 2 Years' else 'between_1_2_year' if x == '1-2 Year' else 'below_1_year' )\n"
   ]
  },
  {
   "cell_type": "markdown",
   "metadata": {},
   "source": [
    "# 3.0 Data Filtering"
   ]
  },
  {
   "cell_type": "code",
   "execution_count": 183,
   "metadata": {},
   "outputs": [],
   "source": [
    "df3 = df2.copy()"
   ]
  },
  {
   "cell_type": "markdown",
   "metadata": {},
   "source": [
    "# 4.0 EDA"
   ]
  },
  {
   "cell_type": "code",
   "execution_count": 184,
   "metadata": {},
   "outputs": [],
   "source": [
    "df4 = df3.copy()"
   ]
  },
  {
   "cell_type": "code",
   "execution_count": 185,
   "metadata": {},
   "outputs": [
    {
     "data": {
      "text/plain": [
       "Index(['id', 'gender', 'age', 'driving_license', 'region_code',\n",
       "       'previously_insured', 'vehicle_age', 'vehicle_damage', 'annual_premium',\n",
       "       'policy_sales_channel', 'vintage', 'response'],\n",
       "      dtype='object')"
      ]
     },
     "execution_count": 185,
     "metadata": {},
     "output_type": "execute_result"
    }
   ],
   "source": [
    "df4.columns"
   ]
  },
  {
   "cell_type": "markdown",
   "metadata": {},
   "source": [
    "## 4.1 Univariate Analysis"
   ]
  },
  {
   "attachments": {},
   "cell_type": "markdown",
   "metadata": {},
   "source": [
    "#### Gender"
   ]
  },
  {
   "attachments": {},
   "cell_type": "markdown",
   "metadata": {},
   "source": [
    "Podemos notar que clientes do gênero masculino, tem mais interesse em adquirir seguro de carro."
   ]
  },
  {
   "cell_type": "code",
   "execution_count": 186,
   "metadata": {},
   "outputs": [
    {
     "data": {
      "image/png": "[encoded data removed]",
      "text/plain": [
       "<Figure size 1440x576 with 2 Axes>"
      ]
     },
     "metadata": {},
     "output_type": "display_data"
    }
   ],
   "source": [
    "# Customers by gender\n",
    "\n",
    "plt.figure(figsize=(20, 8) )\n",
    "ax = plt.subplot( 1,2,1 )\n",
    "aux0= df1['gender'].value_counts()\n",
    "plt.pie( aux0, labels=aux0.index, autopct=\"%0.1f%%\", explode=[0 ,0.1], radius=1, startangle=85, shadow= bool, colors=['#D6D6D6','#4A76AC'] );\n",
    "ax.set_title('Customers by Gender');\n",
    "\n",
    "# Interested Customers by gender\n",
    "\n",
    "ax1 = plt.subplot( 1,2,2)\n",
    "aux1 = df4[df4['response'] == 1]\n",
    "aux1 = aux1[['gender', 'response']].groupby('gender').sum().reset_index()\n",
    "h1 = sns.barplot(data=aux1, x='gender', y='response')\n",
    "total = sum(aux1['response'])\n",
    "ax1.set_title('Interested Customers by Gender')\n",
    "ax1.set_ylabel('Interested customers');\n",
    "graphic_percentage(h1,total)"
   ]
  },
  {
   "attachments": {},
   "cell_type": "markdown",
   "metadata": {},
   "source": [
    "#### Age"
   ]
  },
  {
   "attachments": {},
   "cell_type": "markdown",
   "metadata": {},
   "source": [
    "Clientes com faixa etária entre 40 e 50 anos tem mais interesse no seguro de carro. "
   ]
  },
  {
   "cell_type": "code",
   "execution_count": 187,
   "metadata": {},
   "outputs": [
    {
     "data": {
      "image/png": "[encoded data removed]",
      "text/plain": [
       "<Figure size 1440x720 with 3 Axes>"
      ]
     },
     "metadata": {},
     "output_type": "display_data"
    }
   ],
   "source": [
    "# age\n",
    "a1 = plt.subplot(1, 3, 1)\n",
    "sns.boxplot( x='response', y='age', data=df4);\n",
    "a1.set_title('Interested Customers by Age')\n",
    "a1.set_xlabel('Interest in Vehicle Insurance');\n",
    "a1.set_xticklabels(['No', 'Yes']);\n",
    "\n",
    "aux2 = df4.loc[df4['response'] == 0, 'age']\n",
    "a2 = plt.subplot(1, 3, 2)\n",
    "sns.histplot(aux2);\n",
    "a2.set_title( 'Not Interested Customers by Age')\n",
    "\n",
    "aux3 = df4.loc[df4['response'] == 1, 'age']\n",
    "a3 = plt.subplot(1, 3, 3)\n",
    "sns.histplot(aux3);\n",
    "a3.set_title( 'Interested Customers by Age');"
   ]
  },
  {
   "attachments": {},
   "cell_type": "markdown",
   "metadata": {},
   "source": [
    "#### Drive License"
   ]
  },
  {
   "cell_type": "code",
   "execution_count": 188,
   "metadata": {},
   "outputs": [
    {
     "data": {
      "text/html": [
       "<div>\n",
       "<style scoped>\n",
       "    .dataframe tbody tr th:only-of-type {\n",
       "        vertical-align: middle;\n",
       "    }\n",
       "\n",
       "    .dataframe tbody tr th {\n",
       "        vertical-align: top;\n",
       "    }\n",
       "\n",
       "    .dataframe thead th {\n",
       "        text-align: right;\n",
       "    }\n",
       "</style>\n",
       "<table border=\"1\" class=\"dataframe\">\n",
       "  <thead>\n",
       "    <tr style=\"text-align: right;\">\n",
       "      <th></th>\n",
       "      <th>response</th>\n",
       "      <th>driving_license</th>\n",
       "      <th>percentage</th>\n",
       "    </tr>\n",
       "  </thead>\n",
       "  <tbody>\n",
       "    <tr>\n",
       "      <th>0</th>\n",
       "      <td>0</td>\n",
       "      <td>333628</td>\n",
       "      <td>0.877283</td>\n",
       "    </tr>\n",
       "    <tr>\n",
       "      <th>1</th>\n",
       "      <td>1</td>\n",
       "      <td>46669</td>\n",
       "      <td>0.122717</td>\n",
       "    </tr>\n",
       "  </tbody>\n",
       "</table>\n",
       "</div>"
      ],
      "text/plain": [
       "   response  driving_license  percentage\n",
       "0         0           333628    0.877283\n",
       "1         1            46669    0.122717"
      ]
     },
     "execution_count": 188,
     "metadata": {},
     "output_type": "execute_result"
    }
   ],
   "source": [
    "# driving_license\n",
    "aux4 = df4[['driving_license', 'response']].groupby('response').sum().reset_index()\n",
    "aux4['percentage'] = aux4['driving_license'] / aux4['driving_license'].sum()\n",
    "aux4.head()"
   ]
  },
  {
   "cell_type": "code",
   "execution_count": 189,
   "metadata": {},
   "outputs": [
    {
     "data": {
      "image/png": "[encoded data removed]",
      "text/plain": [
       "<Figure size 1440x720 with 1 Axes>"
      ]
     },
     "metadata": {},
     "output_type": "display_data"
    }
   ],
   "source": [
    "sns.barplot(data=aux4, x='response', y='driving_license', hue='response');"
   ]
  },
  {
   "attachments": {},
   "cell_type": "markdown",
   "metadata": {},
   "source": [
    "#### Region Code"
   ]
  },
  {
   "cell_type": "code",
   "execution_count": 190,
   "metadata": {},
   "outputs": [
    {
     "data": {
      "image/png": "[encoded data removed]",
      "text/plain": [
       "<Figure size 1440x720 with 1 Axes>"
      ]
     },
     "metadata": {},
     "output_type": "display_data"
    }
   ],
   "source": [
    "aux5 = df4[['id', 'region_code', 'response' ]].groupby( ['region_code', 'response']).count().reset_index()\n",
    "sns.scatterplot( x='region_code', y='id', hue='response', data=aux5);\n"
   ]
  },
  {
   "attachments": {},
   "cell_type": "markdown",
   "metadata": {},
   "source": [
    "#### Previously insured"
   ]
  },
  {
   "cell_type": "code",
   "execution_count": 191,
   "metadata": {},
   "outputs": [
    {
     "data": {
      "text/html": [
       "<div>\n",
       "<style scoped>\n",
       "    .dataframe tbody tr th:only-of-type {\n",
       "        vertical-align: middle;\n",
       "    }\n",
       "\n",
       "    .dataframe tbody tr th {\n",
       "        vertical-align: top;\n",
       "    }\n",
       "\n",
       "    .dataframe thead th {\n",
       "        text-align: right;\n",
       "    }\n",
       "</style>\n",
       "<table border=\"1\" class=\"dataframe\">\n",
       "  <thead>\n",
       "    <tr style=\"text-align: right;\">\n",
       "      <th>response</th>\n",
       "      <th>0</th>\n",
       "      <th>1</th>\n",
       "    </tr>\n",
       "    <tr>\n",
       "      <th>previously_insured</th>\n",
       "      <th></th>\n",
       "      <th></th>\n",
       "    </tr>\n",
       "  </thead>\n",
       "  <tbody>\n",
       "    <tr>\n",
       "      <th>0</th>\n",
       "      <td>0.774546</td>\n",
       "      <td>0.225454</td>\n",
       "    </tr>\n",
       "    <tr>\n",
       "      <th>1</th>\n",
       "      <td>0.999095</td>\n",
       "      <td>0.000905</td>\n",
       "    </tr>\n",
       "  </tbody>\n",
       "</table>\n",
       "</div>"
      ],
      "text/plain": [
       "response                   0         1\n",
       "previously_insured                    \n",
       "0                   0.774546  0.225454\n",
       "1                   0.999095  0.000905"
      ]
     },
     "execution_count": 191,
     "metadata": {},
     "output_type": "execute_result"
    }
   ],
   "source": [
    "# previously_insured\n",
    "pd.crosstab( df4['previously_insured'], df4['response'] ).apply( lambda x: x / x.sum(), axis=1 )"
   ]
  },
  {
   "attachments": {},
   "cell_type": "markdown",
   "metadata": {},
   "source": [
    "#### Vehicle Age"
   ]
  },
  {
   "attachments": {},
   "cell_type": "markdown",
   "metadata": {},
   "source": [
    "Embora os veículos com idade superior a 2 anos sejam muito menores em comparação aos demais, os entrevistados deste grupo demonstaram maior interesse."
   ]
  },
  {
   "cell_type": "code",
   "execution_count": 192,
   "metadata": {},
   "outputs": [
    {
     "data": {
      "text/html": [
       "<div>\n",
       "<style scoped>\n",
       "    .dataframe tbody tr th:only-of-type {\n",
       "        vertical-align: middle;\n",
       "    }\n",
       "\n",
       "    .dataframe tbody tr th {\n",
       "        vertical-align: top;\n",
       "    }\n",
       "\n",
       "    .dataframe thead th {\n",
       "        text-align: right;\n",
       "    }\n",
       "</style>\n",
       "<table border=\"1\" class=\"dataframe\">\n",
       "  <thead>\n",
       "    <tr style=\"text-align: right;\">\n",
       "      <th></th>\n",
       "      <th>vehicle_age</th>\n",
       "      <th>response</th>\n",
       "      <th>0</th>\n",
       "    </tr>\n",
       "  </thead>\n",
       "  <tbody>\n",
       "    <tr>\n",
       "      <th>0</th>\n",
       "      <td>below_1_year</td>\n",
       "      <td>0</td>\n",
       "      <td>0.413488</td>\n",
       "    </tr>\n",
       "    <tr>\n",
       "      <th>1</th>\n",
       "      <td>below_1_year</td>\n",
       "      <td>1</td>\n",
       "      <td>0.018897</td>\n",
       "    </tr>\n",
       "    <tr>\n",
       "      <th>2</th>\n",
       "      <td>between_1_2_year</td>\n",
       "      <td>0</td>\n",
       "      <td>0.434285</td>\n",
       "    </tr>\n",
       "    <tr>\n",
       "      <th>3</th>\n",
       "      <td>between_1_2_year</td>\n",
       "      <td>1</td>\n",
       "      <td>0.091328</td>\n",
       "    </tr>\n",
       "    <tr>\n",
       "      <th>4</th>\n",
       "      <td>over_2_years</td>\n",
       "      <td>0</td>\n",
       "      <td>0.029663</td>\n",
       "    </tr>\n",
       "    <tr>\n",
       "      <th>5</th>\n",
       "      <td>over_2_years</td>\n",
       "      <td>1</td>\n",
       "      <td>0.012338</td>\n",
       "    </tr>\n",
       "  </tbody>\n",
       "</table>\n",
       "</div>"
      ],
      "text/plain": [
       "        vehicle_age  response         0\n",
       "0      below_1_year         0  0.413488\n",
       "1      below_1_year         1  0.018897\n",
       "2  between_1_2_year         0  0.434285\n",
       "3  between_1_2_year         1  0.091328\n",
       "4      over_2_years         0  0.029663\n",
       "5      over_2_years         1  0.012338"
      ]
     },
     "execution_count": 192,
     "metadata": {},
     "output_type": "execute_result"
    }
   ],
   "source": [
    "df4[['vehicle_age', 'response']].value_counts(normalize=True, sort=False).reset_index()"
   ]
  },
  {
   "cell_type": "code",
   "execution_count": 193,
   "metadata": {},
   "outputs": [
    {
     "data": {
      "text/html": [
       "<div>\n",
       "<style scoped>\n",
       "    .dataframe tbody tr th:only-of-type {\n",
       "        vertical-align: middle;\n",
       "    }\n",
       "\n",
       "    .dataframe tbody tr th {\n",
       "        vertical-align: top;\n",
       "    }\n",
       "\n",
       "    .dataframe thead th {\n",
       "        text-align: right;\n",
       "    }\n",
       "</style>\n",
       "<table border=\"1\" class=\"dataframe\">\n",
       "  <thead>\n",
       "    <tr style=\"text-align: right;\">\n",
       "      <th>response</th>\n",
       "      <th>0</th>\n",
       "      <th>1</th>\n",
       "    </tr>\n",
       "    <tr>\n",
       "      <th>vehicle_age</th>\n",
       "      <th></th>\n",
       "      <th></th>\n",
       "    </tr>\n",
       "  </thead>\n",
       "  <tbody>\n",
       "    <tr>\n",
       "      <th>below_1_year</th>\n",
       "      <td>0.956295</td>\n",
       "      <td>0.043705</td>\n",
       "    </tr>\n",
       "    <tr>\n",
       "      <th>between_1_2_year</th>\n",
       "      <td>0.826245</td>\n",
       "      <td>0.173755</td>\n",
       "    </tr>\n",
       "    <tr>\n",
       "      <th>over_2_years</th>\n",
       "      <td>0.706254</td>\n",
       "      <td>0.293746</td>\n",
       "    </tr>\n",
       "  </tbody>\n",
       "</table>\n",
       "</div>"
      ],
      "text/plain": [
       "response                 0         1\n",
       "vehicle_age                         \n",
       "below_1_year      0.956295  0.043705\n",
       "between_1_2_year  0.826245  0.173755\n",
       "over_2_years      0.706254  0.293746"
      ]
     },
     "execution_count": 193,
     "metadata": {},
     "output_type": "execute_result"
    }
   ],
   "source": [
    "#df4[['vehicle_age', 'response']].value_counts(normalize=True, sort=False).reset_index()\n",
    "aux6 = pd.crosstab(df4['vehicle_age'], df4['response']).apply(lambda x: x/x.sum(), axis=1)\n",
    "aux6"
   ]
  },
  {
   "attachments": {},
   "cell_type": "markdown",
   "metadata": {},
   "source": [
    "#### Vehicle Damage"
   ]
  },
  {
   "attachments": {},
   "cell_type": "markdown",
   "metadata": {},
   "source": [
    "Veículos que já foram danificados anteriormente, apresentaram maior interesse em adquirir seguro."
   ]
  },
  {
   "cell_type": "code",
   "execution_count": 194,
   "metadata": {},
   "outputs": [
    {
     "data": {
      "image/png": "[encoded data removed]",
      "text/plain": [
       "<Figure size 1440x720 with 1 Axes>"
      ]
     },
     "metadata": {},
     "output_type": "display_data"
    }
   ],
   "source": [
    "aux7 = df4[['vehicle_damage', 'response']].groupby(['vehicle_damage', 'response']).size().reset_index().rename(columns={0:'total'})\n",
    "ax2 = sns.barplot(data=aux7, x='vehicle_damage', y='total', hue='response');\n",
    "total = sum(aux7['total'])\n",
    "graphic_percentage(ax2,total)\n",
    "ax2.set_xlabel('Interested in Vehicle Insurance')\n",
    "ax2.set_ylabel('Nº of customers')\n",
    "ax2.set_title('Interest in Vehicle Insurance when customer had Vehicle Damage');\n",
    "ax2.set_xticklabels(['No', 'Yes']);"
   ]
  },
  {
   "cell_type": "code",
   "execution_count": 195,
   "metadata": {},
   "outputs": [
    {
     "data": {
      "text/html": [
       "<div>\n",
       "<style scoped>\n",
       "    .dataframe tbody tr th:only-of-type {\n",
       "        vertical-align: middle;\n",
       "    }\n",
       "\n",
       "    .dataframe tbody tr th {\n",
       "        vertical-align: top;\n",
       "    }\n",
       "\n",
       "    .dataframe thead th {\n",
       "        text-align: right;\n",
       "    }\n",
       "</style>\n",
       "<table border=\"1\" class=\"dataframe\">\n",
       "  <thead>\n",
       "    <tr style=\"text-align: right;\">\n",
       "      <th>response</th>\n",
       "      <th>0</th>\n",
       "      <th>1</th>\n",
       "    </tr>\n",
       "    <tr>\n",
       "      <th>vehicle_damage</th>\n",
       "      <th></th>\n",
       "      <th></th>\n",
       "    </tr>\n",
       "  </thead>\n",
       "  <tbody>\n",
       "    <tr>\n",
       "      <th>0</th>\n",
       "      <td>0.994796</td>\n",
       "      <td>0.005204</td>\n",
       "    </tr>\n",
       "    <tr>\n",
       "      <th>1</th>\n",
       "      <td>0.762345</td>\n",
       "      <td>0.237655</td>\n",
       "    </tr>\n",
       "  </tbody>\n",
       "</table>\n",
       "</div>"
      ],
      "text/plain": [
       "response               0         1\n",
       "vehicle_damage                    \n",
       "0               0.994796  0.005204\n",
       "1               0.762345  0.237655"
      ]
     },
     "execution_count": 195,
     "metadata": {},
     "output_type": "execute_result"
    }
   ],
   "source": [
    "aux7 = pd.crosstab(df4['vehicle_damage'], df4['response']).apply(lambda x: x/x.sum(), axis=1)\n",
    "aux7"
   ]
  },
  {
   "attachments": {},
   "cell_type": "markdown",
   "metadata": {},
   "source": [
    "#### Annual Premium"
   ]
  },
  {
   "cell_type": "code",
   "execution_count": 196,
   "metadata": {},
   "outputs": [
    {
     "data": {
      "image/png": "[encoded data removed]",
      "text/plain": [
       "<Figure size 1440x720 with 1 Axes>"
      ]
     },
     "metadata": {},
     "output_type": "display_data"
    }
   ],
   "source": [
    "aux8 = df4[(df4['annual_premium'] > 10000) & (df4['annual_premium'] < 80000 )]\n",
    "aux9 = aux8.loc[df4['response'] == 0, 'annual_premium']\n",
    "aux10 = aux8.loc[df4['response'] == 1, 'annual_premium']\n",
    "\n",
    "\n",
    "sns.histplot(aux9, color='grey', label='Not interested')\n",
    "sns.histplot(aux10, color='darkblue', label='Interested')\n",
    "plt.legend(fontsize=15)\n",
    "plt.show()\n"
   ]
  },
  {
   "attachments": {},
   "cell_type": "markdown",
   "metadata": {},
   "source": [
    "#### Policy Sales Channel"
   ]
  },
  {
   "cell_type": "code",
   "execution_count": 197,
   "metadata": {},
   "outputs": [
    {
     "data": {
      "image/png": "[encoded data removed]",
      "text/plain": [
       "<Figure size 1440x720 with 1 Axes>"
      ]
     },
     "metadata": {},
     "output_type": "display_data"
    }
   ],
   "source": [
    "aux11 = df4[['policy_sales_channel', 'response']].groupby( 'policy_sales_channel' ).sum().reset_index()\n",
    "sns.barplot( x='response', y='policy_sales_channel', data=aux11 );"
   ]
  },
  {
   "attachments": {},
   "cell_type": "markdown",
   "metadata": {},
   "source": [
    "#### Vintage"
   ]
  },
  {
   "cell_type": "code",
   "execution_count": 198,
   "metadata": {},
   "outputs": [
    {
     "data": {
      "image/png": "[encoded data removed]",
      "text/plain": [
       "<Figure size 1440x720 with 1 Axes>"
      ]
     },
     "metadata": {},
     "output_type": "display_data"
    }
   ],
   "source": [
    "aux12 = df4.loc[df4['response'] == 0, 'vintage']\n",
    "aux13 = df4.loc[df4['response'] == 1, 'vintage']\n",
    "\n",
    "sns.histplot(aux12, color='grey', label='Not interested')\n",
    "sns.histplot(aux13, color='darkblue', label='Interested')\n",
    "plt.legend(fontsize=15)\n",
    "plt.show()"
   ]
  },
  {
   "attachments": {},
   "cell_type": "markdown",
   "metadata": {},
   "source": [
    "## 4.2 Multivariate Analysis"
   ]
  },
  {
   "cell_type": "markdown",
   "metadata": {},
   "source": [
    "# 5.0 Data Preparation"
   ]
  },
  {
   "cell_type": "code",
   "execution_count": 199,
   "metadata": {},
   "outputs": [],
   "source": [
    "X = df4.drop( 'response', axis=1 )\n",
    "y = df4['response'].copy() \n",
    "\n",
    "x_train, x_validation, y_train, y_validation = ms.train_test_split( X, y, test_size=0.20, random_state=42 )\n",
    "\n",
    "df5 = pd.concat( [x_train, y_train], axis=1 )"
   ]
  },
  {
   "cell_type": "code",
   "execution_count": 200,
   "metadata": {},
   "outputs": [
    {
     "name": "stdout",
     "output_type": "stream",
     "text": [
      "x_train & y_train size\n",
      "(304887, 11)\n",
      "(304887,)\n",
      "\n",
      "x_val & y_val size\n",
      "(76222, 11)\n",
      "(76222,)\n"
     ]
    }
   ],
   "source": [
    "# shape of trains, tests and vals\n",
    "print(\"x_train & y_train size\")\n",
    "print(x_train.shape)\n",
    "print(y_train.shape)\n",
    "\n",
    "print(\"\\nx_val & y_val size\")\n",
    "print(x_validation.shape)\n",
    "print(y_validation.shape)"
   ]
  },
  {
   "cell_type": "markdown",
   "metadata": {},
   "source": [
    "## 5.1 Standardization"
   ]
  },
  {
   "cell_type": "code",
   "execution_count": 201,
   "metadata": {},
   "outputs": [],
   "source": [
    "ss = pp.StandardScaler()\n",
    "\n",
    "# anual premium - StandarScaler\n",
    "df5['annual_premium'] = ss.fit_transform( df5[['annual_premium']].values )\n",
    "pickle.dump( ss, open('C:\\\\Users\\\\Codo\\\\Desktop\\\\repos\\\\PA_health_insurance\\\\src\\\\features\\\\annual_premium_scaler.pkl', 'wb' ))"
   ]
  },
  {
   "cell_type": "markdown",
   "metadata": {},
   "source": [
    "## 5.2 Rescailing"
   ]
  },
  {
   "cell_type": "code",
   "execution_count": 202,
   "metadata": {},
   "outputs": [],
   "source": [
    "mms_age = pp.MinMaxScaler()\n",
    "mms_vintage = pp.MinMaxScaler()\n",
    "\n",
    "# age - MinMaxScaler\n",
    "df5['age'] = mms_age.fit_transform( df5[['age']].values )\n",
    "pickle.dump( mms_age, open('C:\\\\Users\\\\Codo\\\\Desktop\\\\repos\\\\PA_health_insurance\\\\src\\\\features\\\\age_scaler.pkl', 'wb') )\n",
    "\n",
    "# vintage - MinMaxScaler\n",
    "df5['vintage'] = mms_vintage.fit_transform( df5[['vintage']].values )\n",
    "pickle.dump( mms_vintage, open('C:\\\\Users\\\\Codo\\\\Desktop\\\\repos\\\\PA_health_insurance\\\\src\\\\features\\\\vintage_scaler.pkl', 'wb') )"
   ]
  },
  {
   "cell_type": "markdown",
   "metadata": {},
   "source": [
    "## 5.3 Transformation"
   ]
  },
  {
   "cell_type": "code",
   "execution_count": 203,
   "metadata": {},
   "outputs": [
    {
     "data": {
      "text/html": [
       "<div>\n",
       "<style scoped>\n",
       "    .dataframe tbody tr th:only-of-type {\n",
       "        vertical-align: middle;\n",
       "    }\n",
       "\n",
       "    .dataframe tbody tr th {\n",
       "        vertical-align: top;\n",
       "    }\n",
       "\n",
       "    .dataframe thead th {\n",
       "        text-align: right;\n",
       "    }\n",
       "</style>\n",
       "<table border=\"1\" class=\"dataframe\">\n",
       "  <thead>\n",
       "    <tr style=\"text-align: right;\">\n",
       "      <th></th>\n",
       "      <th>id</th>\n",
       "      <th>gender</th>\n",
       "      <th>age</th>\n",
       "      <th>driving_license</th>\n",
       "      <th>region_code</th>\n",
       "      <th>previously_insured</th>\n",
       "      <th>vehicle_age</th>\n",
       "      <th>vehicle_damage</th>\n",
       "      <th>annual_premium</th>\n",
       "      <th>policy_sales_channel</th>\n",
       "      <th>vintage</th>\n",
       "    </tr>\n",
       "  </thead>\n",
       "  <tbody>\n",
       "    <tr>\n",
       "      <th>200222</th>\n",
       "      <td>200223</td>\n",
       "      <td>Female</td>\n",
       "      <td>21</td>\n",
       "      <td>1</td>\n",
       "      <td>3</td>\n",
       "      <td>1</td>\n",
       "      <td>below_1_year</td>\n",
       "      <td>0</td>\n",
       "      <td>20408.0</td>\n",
       "      <td>160</td>\n",
       "      <td>72</td>\n",
       "    </tr>\n",
       "    <tr>\n",
       "      <th>49766</th>\n",
       "      <td>49767</td>\n",
       "      <td>Male</td>\n",
       "      <td>55</td>\n",
       "      <td>1</td>\n",
       "      <td>15</td>\n",
       "      <td>0</td>\n",
       "      <td>between_1_2_year</td>\n",
       "      <td>1</td>\n",
       "      <td>37498.0</td>\n",
       "      <td>26</td>\n",
       "      <td>102</td>\n",
       "    </tr>\n",
       "    <tr>\n",
       "      <th>172201</th>\n",
       "      <td>172202</td>\n",
       "      <td>Female</td>\n",
       "      <td>41</td>\n",
       "      <td>1</td>\n",
       "      <td>3</td>\n",
       "      <td>0</td>\n",
       "      <td>between_1_2_year</td>\n",
       "      <td>1</td>\n",
       "      <td>2630.0</td>\n",
       "      <td>26</td>\n",
       "      <td>90</td>\n",
       "    </tr>\n",
       "    <tr>\n",
       "      <th>160713</th>\n",
       "      <td>160714</td>\n",
       "      <td>Female</td>\n",
       "      <td>26</td>\n",
       "      <td>1</td>\n",
       "      <td>11</td>\n",
       "      <td>0</td>\n",
       "      <td>below_1_year</td>\n",
       "      <td>0</td>\n",
       "      <td>2630.0</td>\n",
       "      <td>151</td>\n",
       "      <td>268</td>\n",
       "    </tr>\n",
       "    <tr>\n",
       "      <th>53272</th>\n",
       "      <td>53273</td>\n",
       "      <td>Male</td>\n",
       "      <td>51</td>\n",
       "      <td>1</td>\n",
       "      <td>40</td>\n",
       "      <td>0</td>\n",
       "      <td>between_1_2_year</td>\n",
       "      <td>1</td>\n",
       "      <td>34006.0</td>\n",
       "      <td>124</td>\n",
       "      <td>265</td>\n",
       "    </tr>\n",
       "  </tbody>\n",
       "</table>\n",
       "</div>"
      ],
      "text/plain": [
       "            id  gender  age  driving_license  region_code  previously_insured       vehicle_age  vehicle_damage  annual_premium  policy_sales_channel  vintage\n",
       "200222  200223  Female   21                1            3                   1      below_1_year               0         20408.0                   160       72\n",
       "49766    49767    Male   55                1           15                   0  between_1_2_year               1         37498.0                    26      102\n",
       "172201  172202  Female   41                1            3                   0  between_1_2_year               1          2630.0                    26       90\n",
       "160713  160714  Female   26                1           11                   0      below_1_year               0          2630.0                   151      268\n",
       "53272    53273    Male   51                1           40                   0  between_1_2_year               1         34006.0                   124      265"
      ]
     },
     "execution_count": 203,
     "metadata": {},
     "output_type": "execute_result"
    }
   ],
   "source": [
    "x_validation.head()"
   ]
  },
  {
   "cell_type": "markdown",
   "metadata": {},
   "source": [
    "## 5.3.1  Encoding"
   ]
  },
  {
   "cell_type": "code",
   "execution_count": 204,
   "metadata": {},
   "outputs": [],
   "source": [
    " # gender - One Hot Encoding / Target Encoding\n",
    "target_encode_gender = df5.groupby( 'gender' )['response'].mean()\n",
    "df5.loc[:, 'gender'] = df5['gender'].map( target_encode_gender )\n",
    "pickle.dump( target_encode_gender, open('C:\\\\Users\\\\Codo\\\\Desktop\\\\repos\\\\PA_health_insurance\\\\src\\\\features\\\\target_encode_gender_scaler.pkl', 'wb') )\n",
    "\n",
    "# region_code - Target Encoding / Frequency Encoding\n",
    "target_encode_region_code = df5.groupby( 'region_code' )['response'].mean()\n",
    "df5.loc[:, 'region_code'] = df5['region_code'].map( target_encode_region_code )\n",
    "pickle.dump( target_encode_region_code, open('C:\\\\Users\\\\Codo\\\\Desktop\\\\repos\\\\PA_health_insurance\\\\src\\\\features\\\\target_encode_region_code_scaler.pkl', 'wb') )\n",
    "\n",
    "# vehicle_age - One Hot Enconding / Frequency Enconding \n",
    "df5 = pd.get_dummies( df5, prefix='vehicle_age', columns=['vehicle_age'] )\n",
    "\n",
    "# policy_sales_channel - Target Encoding / Frequency Encoding\n",
    "fe_policy_sales_channel = df5.groupby( 'policy_sales_channel' ).size() / len( df5 ) \n",
    "df5.loc[:, 'policy_sales_channel'] = df5['policy_sales_channel'].map( fe_policy_sales_channel )\n",
    "pickle.dump( fe_policy_sales_channel, open('C:\\\\Users\\\\Codo\\\\Desktop\\\\repos\\\\PA_health_insurance\\\\src\\\\features\\\\fe_policy_sales_channel_scaler.pkl', 'wb') )"
   ]
  },
  {
   "cell_type": "code",
   "execution_count": 205,
   "metadata": {},
   "outputs": [
    {
     "data": {
      "text/html": [
       "<div>\n",
       "<style scoped>\n",
       "    .dataframe tbody tr th:only-of-type {\n",
       "        vertical-align: middle;\n",
       "    }\n",
       "\n",
       "    .dataframe tbody tr th {\n",
       "        vertical-align: top;\n",
       "    }\n",
       "\n",
       "    .dataframe thead th {\n",
       "        text-align: right;\n",
       "    }\n",
       "</style>\n",
       "<table border=\"1\" class=\"dataframe\">\n",
       "  <thead>\n",
       "    <tr style=\"text-align: right;\">\n",
       "      <th></th>\n",
       "      <th>id</th>\n",
       "      <th>gender</th>\n",
       "      <th>age</th>\n",
       "      <th>driving_license</th>\n",
       "      <th>region_code</th>\n",
       "      <th>previously_insured</th>\n",
       "      <th>vehicle_damage</th>\n",
       "      <th>annual_premium</th>\n",
       "      <th>policy_sales_channel</th>\n",
       "      <th>vintage</th>\n",
       "      <th>response</th>\n",
       "      <th>vehicle_age_below_1_year</th>\n",
       "      <th>vehicle_age_between_1_2_year</th>\n",
       "      <th>vehicle_age_over_2_years</th>\n",
       "    </tr>\n",
       "  </thead>\n",
       "  <tbody>\n",
       "    <tr>\n",
       "      <th>332803</th>\n",
       "      <td>332804</td>\n",
       "      <td>0.103373</td>\n",
       "      <td>0.292308</td>\n",
       "      <td>1</td>\n",
       "      <td>0.070151</td>\n",
       "      <td>0</td>\n",
       "      <td>1</td>\n",
       "      <td>1.294417</td>\n",
       "      <td>0.003309</td>\n",
       "      <td>0.750865</td>\n",
       "      <td>1</td>\n",
       "      <td>0</td>\n",
       "      <td>1</td>\n",
       "      <td>0</td>\n",
       "    </tr>\n",
       "    <tr>\n",
       "      <th>116248</th>\n",
       "      <td>116249</td>\n",
       "      <td>0.137774</td>\n",
       "      <td>0.276923</td>\n",
       "      <td>1</td>\n",
       "      <td>0.109796</td>\n",
       "      <td>0</td>\n",
       "      <td>1</td>\n",
       "      <td>-0.436638</td>\n",
       "      <td>0.209638</td>\n",
       "      <td>0.065744</td>\n",
       "      <td>0</td>\n",
       "      <td>0</td>\n",
       "      <td>1</td>\n",
       "      <td>0</td>\n",
       "    </tr>\n",
       "    <tr>\n",
       "      <th>255005</th>\n",
       "      <td>255006</td>\n",
       "      <td>0.137774</td>\n",
       "      <td>0.030769</td>\n",
       "      <td>1</td>\n",
       "      <td>0.074305</td>\n",
       "      <td>1</td>\n",
       "      <td>0</td>\n",
       "      <td>0.854640</td>\n",
       "      <td>0.353472</td>\n",
       "      <td>0.539792</td>\n",
       "      <td>0</td>\n",
       "      <td>1</td>\n",
       "      <td>0</td>\n",
       "      <td>0</td>\n",
       "    </tr>\n",
       "    <tr>\n",
       "      <th>317474</th>\n",
       "      <td>317475</td>\n",
       "      <td>0.103373</td>\n",
       "      <td>0.046154</td>\n",
       "      <td>1</td>\n",
       "      <td>0.122946</td>\n",
       "      <td>1</td>\n",
       "      <td>0</td>\n",
       "      <td>-0.083449</td>\n",
       "      <td>0.010050</td>\n",
       "      <td>0.923875</td>\n",
       "      <td>0</td>\n",
       "      <td>1</td>\n",
       "      <td>0</td>\n",
       "      <td>0</td>\n",
       "    </tr>\n",
       "    <tr>\n",
       "      <th>344212</th>\n",
       "      <td>344213</td>\n",
       "      <td>0.137774</td>\n",
       "      <td>0.553846</td>\n",
       "      <td>1</td>\n",
       "      <td>0.100978</td>\n",
       "      <td>0</td>\n",
       "      <td>1</td>\n",
       "      <td>-1.619422</td>\n",
       "      <td>0.015901</td>\n",
       "      <td>0.501730</td>\n",
       "      <td>0</td>\n",
       "      <td>0</td>\n",
       "      <td>0</td>\n",
       "      <td>1</td>\n",
       "    </tr>\n",
       "  </tbody>\n",
       "</table>\n",
       "</div>"
      ],
      "text/plain": [
       "            id    gender       age  driving_license  region_code  previously_insured  vehicle_damage  annual_premium  policy_sales_channel   vintage  response  vehicle_age_below_1_year  vehicle_age_between_1_2_year  vehicle_age_over_2_years\n",
       "332803  332804  0.103373  0.292308                1     0.070151                   0               1        1.294417              0.003309  0.750865         1                         0                             1                         0\n",
       "116248  116249  0.137774  0.276923                1     0.109796                   0               1       -0.436638              0.209638  0.065744         0                         0                             1                         0\n",
       "255005  255006  0.137774  0.030769                1     0.074305                   1               0        0.854640              0.353472  0.539792         0                         1                             0                         0\n",
       "317474  317475  0.103373  0.046154                1     0.122946                   1               0       -0.083449              0.010050  0.923875         0                         1                             0                         0\n",
       "344212  344213  0.137774  0.553846                1     0.100978                   0               1       -1.619422              0.015901  0.501730         0                         0                             0                         1"
      ]
     },
     "execution_count": 205,
     "metadata": {},
     "output_type": "execute_result"
    }
   ],
   "source": [
    "df5.head()"
   ]
  },
  {
   "cell_type": "markdown",
   "metadata": {},
   "source": [
    "## 5.4 Validation Preparation"
   ]
  },
  {
   "cell_type": "code",
   "execution_count": 206,
   "metadata": {},
   "outputs": [],
   "source": [
    " # gender\n",
    "x_validation.loc[:, 'gender'] =  x_validation.loc[:, 'gender'].map( target_encode_gender )\n",
    "\n",
    "# age\n",
    "x_validation.loc[:, 'age'] = mms_age.transform( x_validation[['age']].values )\n",
    "\n",
    "# region_code\n",
    "x_validation.loc[:, 'region_code'] = x_validation.loc[:, 'region_code'].map( target_encode_region_code )\n",
    "\n",
    "# vehicle_age\n",
    "x_validation = pd.get_dummies( x_validation, prefix='vehicle_age', columns=['vehicle_age'] )\n",
    "\n",
    "# annual_premium\n",
    "x_validation.loc[:, 'annual_premium'] = ss.transform( x_validation[['annual_premium']].values )\n",
    "\n",
    "# policy_sales_channel\n",
    "x_validation.loc[:, 'policy_sales_channel'] = x_validation['policy_sales_channel'].map( fe_policy_sales_channel )\n",
    "\n",
    "# vintage\n",
    "x_validation.loc[:, 'vintage'] = mms_vintage.transform( x_validation[['vintage']].values )\n",
    "\n",
    "# fillna\n",
    "x_validation = x_validation.fillna( 0 )"
   ]
  },
  {
   "cell_type": "code",
   "execution_count": 207,
   "metadata": {},
   "outputs": [
    {
     "data": {
      "text/html": [
       "<div>\n",
       "<style scoped>\n",
       "    .dataframe tbody tr th:only-of-type {\n",
       "        vertical-align: middle;\n",
       "    }\n",
       "\n",
       "    .dataframe tbody tr th {\n",
       "        vertical-align: top;\n",
       "    }\n",
       "\n",
       "    .dataframe thead th {\n",
       "        text-align: right;\n",
       "    }\n",
       "</style>\n",
       "<table border=\"1\" class=\"dataframe\">\n",
       "  <thead>\n",
       "    <tr style=\"text-align: right;\">\n",
       "      <th></th>\n",
       "      <th>id</th>\n",
       "      <th>gender</th>\n",
       "      <th>age</th>\n",
       "      <th>driving_license</th>\n",
       "      <th>region_code</th>\n",
       "      <th>previously_insured</th>\n",
       "      <th>vehicle_damage</th>\n",
       "      <th>annual_premium</th>\n",
       "      <th>policy_sales_channel</th>\n",
       "      <th>vintage</th>\n",
       "      <th>vehicle_age_below_1_year</th>\n",
       "      <th>vehicle_age_between_1_2_year</th>\n",
       "      <th>vehicle_age_over_2_years</th>\n",
       "    </tr>\n",
       "  </thead>\n",
       "  <tbody>\n",
       "    <tr>\n",
       "      <th>200222</th>\n",
       "      <td>200223</td>\n",
       "      <td>0.103373</td>\n",
       "      <td>0.015385</td>\n",
       "      <td>1</td>\n",
       "      <td>0.126795</td>\n",
       "      <td>1</td>\n",
       "      <td>0</td>\n",
       "      <td>-0.589065</td>\n",
       "      <td>0.056874</td>\n",
       "      <td>0.214533</td>\n",
       "      <td>1</td>\n",
       "      <td>0</td>\n",
       "      <td>0</td>\n",
       "    </tr>\n",
       "    <tr>\n",
       "      <th>49766</th>\n",
       "      <td>49767</td>\n",
       "      <td>0.137774</td>\n",
       "      <td>0.538462</td>\n",
       "      <td>1</td>\n",
       "      <td>0.070151</td>\n",
       "      <td>0</td>\n",
       "      <td>1</td>\n",
       "      <td>0.401418</td>\n",
       "      <td>0.209638</td>\n",
       "      <td>0.318339</td>\n",
       "      <td>0</td>\n",
       "      <td>1</td>\n",
       "      <td>0</td>\n",
       "    </tr>\n",
       "    <tr>\n",
       "      <th>172201</th>\n",
       "      <td>172202</td>\n",
       "      <td>0.103373</td>\n",
       "      <td>0.323077</td>\n",
       "      <td>1</td>\n",
       "      <td>0.126795</td>\n",
       "      <td>0</td>\n",
       "      <td>1</td>\n",
       "      <td>-1.619422</td>\n",
       "      <td>0.209638</td>\n",
       "      <td>0.276817</td>\n",
       "      <td>0</td>\n",
       "      <td>1</td>\n",
       "      <td>0</td>\n",
       "    </tr>\n",
       "    <tr>\n",
       "      <th>160713</th>\n",
       "      <td>160714</td>\n",
       "      <td>0.103373</td>\n",
       "      <td>0.092308</td>\n",
       "      <td>1</td>\n",
       "      <td>0.109796</td>\n",
       "      <td>0</td>\n",
       "      <td>0</td>\n",
       "      <td>-1.619422</td>\n",
       "      <td>0.010050</td>\n",
       "      <td>0.892734</td>\n",
       "      <td>1</td>\n",
       "      <td>0</td>\n",
       "      <td>0</td>\n",
       "    </tr>\n",
       "    <tr>\n",
       "      <th>53272</th>\n",
       "      <td>53273</td>\n",
       "      <td>0.137774</td>\n",
       "      <td>0.476923</td>\n",
       "      <td>1</td>\n",
       "      <td>0.121270</td>\n",
       "      <td>0</td>\n",
       "      <td>1</td>\n",
       "      <td>0.199032</td>\n",
       "      <td>0.193934</td>\n",
       "      <td>0.882353</td>\n",
       "      <td>0</td>\n",
       "      <td>1</td>\n",
       "      <td>0</td>\n",
       "    </tr>\n",
       "  </tbody>\n",
       "</table>\n",
       "</div>"
      ],
      "text/plain": [
       "            id    gender       age  driving_license  region_code  previously_insured  vehicle_damage  annual_premium  policy_sales_channel   vintage  vehicle_age_below_1_year  vehicle_age_between_1_2_year  vehicle_age_over_2_years\n",
       "200222  200223  0.103373  0.015385                1     0.126795                   1               0       -0.589065              0.056874  0.214533                         1                             0                         0\n",
       "49766    49767  0.137774  0.538462                1     0.070151                   0               1        0.401418              0.209638  0.318339                         0                             1                         0\n",
       "172201  172202  0.103373  0.323077                1     0.126795                   0               1       -1.619422              0.209638  0.276817                         0                             1                         0\n",
       "160713  160714  0.103373  0.092308                1     0.109796                   0               0       -1.619422              0.010050  0.892734                         1                             0                         0\n",
       "53272    53273  0.137774  0.476923                1     0.121270                   0               1        0.199032              0.193934  0.882353                         0                             1                         0"
      ]
     },
     "execution_count": 207,
     "metadata": {},
     "output_type": "execute_result"
    }
   ],
   "source": [
    "x_validation.head()"
   ]
  },
  {
   "cell_type": "markdown",
   "metadata": {},
   "source": [
    "# 6.0 Feature Sellection"
   ]
  },
  {
   "cell_type": "markdown",
   "metadata": {},
   "source": [
    "## 6.1 Important features"
   ]
  },
  {
   "cell_type": "code",
   "execution_count": 208,
   "metadata": {},
   "outputs": [],
   "source": [
    "# data preparation\n",
    "x_train_n = df5.drop( ['id', 'response'], axis=1 )\n",
    "y_train_n = y_train.values"
   ]
  },
  {
   "cell_type": "markdown",
   "metadata": {},
   "source": [
    "### 6.1.1 ExtraTree"
   ]
  },
  {
   "cell_type": "code",
   "execution_count": 209,
   "metadata": {},
   "outputs": [
    {
     "name": "stdout",
     "output_type": "stream",
     "text": [
      "Feature ranking:\n",
      "                        feature  importance\n",
      "0                       vintage    0.273060\n",
      "0                annual_premium    0.245104\n",
      "0                           age    0.164858\n",
      "0                   region_code    0.106965\n",
      "0                vehicle_damage    0.066324\n",
      "0          policy_sales_channel    0.059156\n",
      "0            previously_insured    0.057517\n",
      "0      vehicle_age_below_1_year    0.013606\n",
      "0  vehicle_age_between_1_2_year    0.006103\n",
      "0                        gender    0.004627\n",
      "0      vehicle_age_over_2_years    0.002176\n",
      "0               driving_license    0.000503\n"
     ]
    },
    {
     "data": {
      "image/png": "[encoded data removed]",
      "text/plain": [
       "<Figure size 1440x720 with 1 Axes>"
      ]
     },
     "metadata": {},
     "output_type": "display_data"
    }
   ],
   "source": [
    "forest = en.ExtraTreesClassifier( n_estimators=250, random_state=0, n_jobs=-1 )\n",
    "forest.fit( x_train_n, y_train_n)\n",
    "\n",
    "importances = forest.feature_importances_.argsort()\n",
    "\n",
    "# Print the feature ranking\n",
    "print(\"Feature ranking:\")\n",
    "df = pd.DataFrame()\n",
    "for i, j in zip( x_train_n, forest.feature_importances_ ):\n",
    "    aux = pd.DataFrame( {'feature': i, 'importance': j}, index=[0] )\n",
    "    df = pd.concat( [df, aux], axis=0 )\n",
    "    \n",
    "print( df.sort_values( 'importance', ascending=False ) )\n",
    "\n",
    "# plot\n",
    "plt.barh(x_train_n.columns[importances], forest.feature_importances_[importances])\n",
    "plt.title('Extra Tree Features Importance', fontsize=30);\n"
   ]
  },
  {
   "cell_type": "markdown",
   "metadata": {},
   "source": [
    "### 6.1.2 Random Forest"
   ]
  },
  {
   "cell_type": "code",
   "execution_count": 210,
   "metadata": {},
   "outputs": [
    {
     "name": "stdout",
     "output_type": "stream",
     "text": [
      "Feature ranking:\n",
      "                        feature  importance\n",
      "0                       vintage    0.282855\n",
      "0                annual_premium    0.254939\n",
      "0                           age    0.147960\n",
      "0                   region_code    0.095116\n",
      "0          policy_sales_channel    0.074087\n",
      "0                vehicle_damage    0.063810\n",
      "0            previously_insured    0.055536\n",
      "0                        gender    0.009660\n",
      "0      vehicle_age_below_1_year    0.009502\n",
      "0  vehicle_age_between_1_2_year    0.003927\n",
      "0      vehicle_age_over_2_years    0.002079\n",
      "0               driving_license    0.000528\n"
     ]
    },
    {
     "data": {
      "image/png": "[encoded data removed]",
      "text/plain": [
       "<Figure size 1440x720 with 1 Axes>"
      ]
     },
     "metadata": {},
     "output_type": "display_data"
    }
   ],
   "source": [
    "rf_selector = RandomForestClassifier(max_depth=100, n_jobs=-1)\n",
    "rf_selector.fit(x_train_n, y_train_n)\n",
    "rf_selector.feature_importances_\n",
    "\n",
    "# Print the feature ranking\n",
    "print(\"Feature ranking:\")\n",
    "df = pd.DataFrame()\n",
    "for i, j in zip( x_train_n, rf_selector.feature_importances_ ):\n",
    "    aux = pd.DataFrame( {'feature': i, 'importance': j}, index=[0] )\n",
    "    df = pd.concat( [df, aux], axis=0 )\n",
    "    \n",
    "print( df.sort_values( 'importance', ascending=False ) )\n",
    "\n",
    "sorted_features = rf_selector.feature_importances_.argsort()\n",
    "\n",
    "plt.barh(x_train_n.columns[sorted_features], rf_selector.feature_importances_[sorted_features])\n",
    "plt.title('Random Forest Features Importance', fontsize=30);\n"
   ]
  },
  {
   "cell_type": "markdown",
   "metadata": {},
   "source": [
    "# 7.0 Machine Learning "
   ]
  },
  {
   "cell_type": "code",
   "execution_count": 211,
   "metadata": {},
   "outputs": [],
   "source": [
    "cols_selected = ['annual_premium', 'vintage', 'age', 'region_code', 'vehicle_damage', 'previously_insured', 'policy_sales_channel']\n",
    "\n",
    "x_train = df5[ cols_selected ]\n",
    "x_val = x_validation[ cols_selected ]\n",
    "y_val = y_validation.copy()"
   ]
  },
  {
   "attachments": {},
   "cell_type": "markdown",
   "metadata": {},
   "source": [
    "## 7.1 Logistic Regression"
   ]
  },
  {
   "cell_type": "code",
   "execution_count": 52,
   "metadata": {},
   "outputs": [
    {
     "data": {
      "text/html": [
       "<div>\n",
       "<style scoped>\n",
       "    .dataframe tbody tr th:only-of-type {\n",
       "        vertical-align: middle;\n",
       "    }\n",
       "\n",
       "    .dataframe tbody tr th {\n",
       "        vertical-align: top;\n",
       "    }\n",
       "\n",
       "    .dataframe thead th {\n",
       "        text-align: right;\n",
       "    }\n",
       "</style>\n",
       "<table border=\"1\" class=\"dataframe\">\n",
       "  <thead>\n",
       "    <tr style=\"text-align: right;\">\n",
       "      <th></th>\n",
       "      <th>Model_Name</th>\n",
       "      <th>Model Accuracy</th>\n",
       "      <th>Precision @K</th>\n",
       "      <th>Recall @K</th>\n",
       "      <th>ROC AUC Score</th>\n",
       "      <th>Top K Score</th>\n",
       "    </tr>\n",
       "  </thead>\n",
       "  <tbody>\n",
       "    <tr>\n",
       "      <th>0</th>\n",
       "      <td>LogisticRegression</td>\n",
       "      <td>0.875062</td>\n",
       "      <td>0.288686</td>\n",
       "      <td>0.606322</td>\n",
       "      <td>0.817302</td>\n",
       "      <td>0.875062</td>\n",
       "    </tr>\n",
       "  </tbody>\n",
       "</table>\n",
       "</div>"
      ],
      "text/plain": [
       "           Model_Name  Model Accuracy  Precision @K  Recall @K  ROC AUC Score  Top K Score\n",
       "0  LogisticRegression        0.875062      0.288686   0.606322       0.817302     0.875062"
      ]
     },
     "execution_count": 52,
     "metadata": {},
     "output_type": "execute_result"
    }
   ],
   "source": [
    " # model definition\n",
    "lr_model = lm.LogisticRegression( random_state=42 ) \n",
    "\n",
    "df_lr = metrics_at_k(lr_model, x_train, y_train, x_val, y_val )\n",
    "df_lr"
   ]
  },
  {
   "attachments": {},
   "cell_type": "markdown",
   "metadata": {},
   "source": [
    "## 7.2 KNN Classifier"
   ]
  },
  {
   "cell_type": "code",
   "execution_count": 53,
   "metadata": {},
   "outputs": [
    {
     "data": {
      "text/html": [
       "<div>\n",
       "<style scoped>\n",
       "    .dataframe tbody tr th:only-of-type {\n",
       "        vertical-align: middle;\n",
       "    }\n",
       "\n",
       "    .dataframe tbody tr th {\n",
       "        vertical-align: top;\n",
       "    }\n",
       "\n",
       "    .dataframe thead th {\n",
       "        text-align: right;\n",
       "    }\n",
       "</style>\n",
       "<table border=\"1\" class=\"dataframe\">\n",
       "  <thead>\n",
       "    <tr style=\"text-align: right;\">\n",
       "      <th></th>\n",
       "      <th>Model_Name</th>\n",
       "      <th>Model Accuracy</th>\n",
       "      <th>Precision @K</th>\n",
       "      <th>Recall @K</th>\n",
       "      <th>ROC AUC Score</th>\n",
       "      <th>Top K Score</th>\n",
       "    </tr>\n",
       "  </thead>\n",
       "  <tbody>\n",
       "    <tr>\n",
       "      <th>0</th>\n",
       "      <td>KNeighborsClassifier</td>\n",
       "      <td>0.85802</td>\n",
       "      <td>0.299635</td>\n",
       "      <td>0.629318</td>\n",
       "      <td>0.782844</td>\n",
       "      <td>0.85802</td>\n",
       "    </tr>\n",
       "  </tbody>\n",
       "</table>\n",
       "</div>"
      ],
      "text/plain": [
       "             Model_Name  Model Accuracy  Precision @K  Recall @K  ROC AUC Score  Top K Score\n",
       "0  KNeighborsClassifier         0.85802      0.299635   0.629318       0.782844      0.85802"
      ]
     },
     "execution_count": 53,
     "metadata": {},
     "output_type": "execute_result"
    }
   ],
   "source": [
    "# model definition\n",
    "knn_model = nh.KNeighborsClassifier( n_neighbors=7, n_jobs=-1 )\n",
    "\n",
    "df_knn = metrics_at_k(knn_model, x_train, y_train, x_val, y_val )\n",
    "df_knn"
   ]
  },
  {
   "attachments": {},
   "cell_type": "markdown",
   "metadata": {},
   "source": [
    "## 7.3 Random Forest"
   ]
  },
  {
   "cell_type": "code",
   "execution_count": 54,
   "metadata": {},
   "outputs": [
    {
     "data": {
      "text/html": [
       "<div>\n",
       "<style scoped>\n",
       "    .dataframe tbody tr th:only-of-type {\n",
       "        vertical-align: middle;\n",
       "    }\n",
       "\n",
       "    .dataframe tbody tr th {\n",
       "        vertical-align: top;\n",
       "    }\n",
       "\n",
       "    .dataframe thead th {\n",
       "        text-align: right;\n",
       "    }\n",
       "</style>\n",
       "<table border=\"1\" class=\"dataframe\">\n",
       "  <thead>\n",
       "    <tr style=\"text-align: right;\">\n",
       "      <th></th>\n",
       "      <th>Model_Name</th>\n",
       "      <th>Model Accuracy</th>\n",
       "      <th>Precision @K</th>\n",
       "      <th>Recall @K</th>\n",
       "      <th>ROC AUC Score</th>\n",
       "      <th>Top K Score</th>\n",
       "    </tr>\n",
       "  </thead>\n",
       "  <tbody>\n",
       "    <tr>\n",
       "      <th>0</th>\n",
       "      <td>RandomForestClassifier</td>\n",
       "      <td>0.864094</td>\n",
       "      <td>0.319434</td>\n",
       "      <td>0.670902</td>\n",
       "      <td>0.838271</td>\n",
       "      <td>0.864094</td>\n",
       "    </tr>\n",
       "  </tbody>\n",
       "</table>\n",
       "</div>"
      ],
      "text/plain": [
       "               Model_Name  Model Accuracy  Precision @K  Recall @K  ROC AUC Score  Top K Score\n",
       "0  RandomForestClassifier        0.864094      0.319434   0.670902       0.838271     0.864094"
      ]
     },
     "execution_count": 54,
     "metadata": {},
     "output_type": "execute_result"
    }
   ],
   "source": [
    "# model definition\n",
    "rf_model = en.RandomForestClassifier( n_estimators=1000, n_jobs=-1, random_state=42 )\n",
    "\n",
    "df_rf = metrics_at_k(rf_model, x_train, y_train, x_val, y_val )\n",
    "df_rf\n"
   ]
  },
  {
   "attachments": {},
   "cell_type": "markdown",
   "metadata": {},
   "source": [
    "## 7.4 LGBM"
   ]
  },
  {
   "cell_type": "code",
   "execution_count": 55,
   "metadata": {},
   "outputs": [
    {
     "data": {
      "text/html": [
       "<div>\n",
       "<style scoped>\n",
       "    .dataframe tbody tr th:only-of-type {\n",
       "        vertical-align: middle;\n",
       "    }\n",
       "\n",
       "    .dataframe tbody tr th {\n",
       "        vertical-align: top;\n",
       "    }\n",
       "\n",
       "    .dataframe thead th {\n",
       "        text-align: right;\n",
       "    }\n",
       "</style>\n",
       "<table border=\"1\" class=\"dataframe\">\n",
       "  <thead>\n",
       "    <tr style=\"text-align: right;\">\n",
       "      <th></th>\n",
       "      <th>Model_Name</th>\n",
       "      <th>Model Accuracy</th>\n",
       "      <th>Precision @K</th>\n",
       "      <th>Recall @K</th>\n",
       "      <th>ROC AUC Score</th>\n",
       "      <th>Top K Score</th>\n",
       "    </tr>\n",
       "  </thead>\n",
       "  <tbody>\n",
       "    <tr>\n",
       "      <th>0</th>\n",
       "      <td>LGBMClassifier</td>\n",
       "      <td>0.874761</td>\n",
       "      <td>0.343133</td>\n",
       "      <td>0.720676</td>\n",
       "      <td>0.857903</td>\n",
       "      <td>0.874761</td>\n",
       "    </tr>\n",
       "  </tbody>\n",
       "</table>\n",
       "</div>"
      ],
      "text/plain": [
       "       Model_Name  Model Accuracy  Precision @K  Recall @K  ROC AUC Score  Top K Score\n",
       "0  LGBMClassifier        0.874761      0.343133   0.720676       0.857903     0.874761"
      ]
     },
     "execution_count": 55,
     "metadata": {},
     "output_type": "execute_result"
    }
   ],
   "source": [
    "# model definition\n",
    "lgbm_model = LGBMClassifier(random_state=42, n_jobs=-1)\n",
    "\n",
    "df_lgbm = metrics_at_k(lgbm_model, x_train, y_train, x_val, y_val )\n",
    "df_lgbm"
   ]
  },
  {
   "attachments": {},
   "cell_type": "markdown",
   "metadata": {},
   "source": [
    "## 7.5 Catboost"
   ]
  },
  {
   "cell_type": "code",
   "execution_count": 56,
   "metadata": {},
   "outputs": [
    {
     "data": {
      "text/html": [
       "<div>\n",
       "<style scoped>\n",
       "    .dataframe tbody tr th:only-of-type {\n",
       "        vertical-align: middle;\n",
       "    }\n",
       "\n",
       "    .dataframe tbody tr th {\n",
       "        vertical-align: top;\n",
       "    }\n",
       "\n",
       "    .dataframe thead th {\n",
       "        text-align: right;\n",
       "    }\n",
       "</style>\n",
       "<table border=\"1\" class=\"dataframe\">\n",
       "  <thead>\n",
       "    <tr style=\"text-align: right;\">\n",
       "      <th></th>\n",
       "      <th>Model_Name</th>\n",
       "      <th>Model Accuracy</th>\n",
       "      <th>Precision @K</th>\n",
       "      <th>Recall @K</th>\n",
       "      <th>ROC AUC Score</th>\n",
       "      <th>Top K Score</th>\n",
       "    </tr>\n",
       "  </thead>\n",
       "  <tbody>\n",
       "    <tr>\n",
       "      <th>0</th>\n",
       "      <td>CatBoostClassifier</td>\n",
       "      <td>0.874498</td>\n",
       "      <td>0.340833</td>\n",
       "      <td>0.715846</td>\n",
       "      <td>0.856752</td>\n",
       "      <td>0.874498</td>\n",
       "    </tr>\n",
       "  </tbody>\n",
       "</table>\n",
       "</div>"
      ],
      "text/plain": [
       "           Model_Name  Model Accuracy  Precision @K  Recall @K  ROC AUC Score  Top K Score\n",
       "0  CatBoostClassifier        0.874498      0.340833   0.715846       0.856752     0.874498"
      ]
     },
     "execution_count": 56,
     "metadata": {},
     "output_type": "execute_result"
    }
   ],
   "source": [
    "# model definition\n",
    "ctb_model = CatBoostClassifier(random_state=42, verbose=False)\n",
    "\n",
    "df_ctb = metrics_at_k(ctb_model, x_train, y_train, x_val, y_val )\n",
    "df_ctb"
   ]
  },
  {
   "attachments": {},
   "cell_type": "markdown",
   "metadata": {},
   "source": [
    "## 7.6 XGBClassifier"
   ]
  },
  {
   "cell_type": "code",
   "execution_count": 57,
   "metadata": {},
   "outputs": [
    {
     "data": {
      "text/html": [
       "<div>\n",
       "<style scoped>\n",
       "    .dataframe tbody tr th:only-of-type {\n",
       "        vertical-align: middle;\n",
       "    }\n",
       "\n",
       "    .dataframe tbody tr th {\n",
       "        vertical-align: top;\n",
       "    }\n",
       "\n",
       "    .dataframe thead th {\n",
       "        text-align: right;\n",
       "    }\n",
       "</style>\n",
       "<table border=\"1\" class=\"dataframe\">\n",
       "  <thead>\n",
       "    <tr style=\"text-align: right;\">\n",
       "      <th></th>\n",
       "      <th>Model_Name</th>\n",
       "      <th>Model Accuracy</th>\n",
       "      <th>Precision @K</th>\n",
       "      <th>Recall @K</th>\n",
       "      <th>ROC AUC Score</th>\n",
       "      <th>Top K Score</th>\n",
       "    </tr>\n",
       "  </thead>\n",
       "  <tbody>\n",
       "    <tr>\n",
       "      <th>0</th>\n",
       "      <td>XGBClassifier</td>\n",
       "      <td>0.874892</td>\n",
       "      <td>0.340933</td>\n",
       "      <td>0.716056</td>\n",
       "      <td>0.856461</td>\n",
       "      <td>0.874892</td>\n",
       "    </tr>\n",
       "  </tbody>\n",
       "</table>\n",
       "</div>"
      ],
      "text/plain": [
       "      Model_Name  Model Accuracy  Precision @K  Recall @K  ROC AUC Score  Top K Score\n",
       "0  XGBClassifier        0.874892      0.340933   0.716056       0.856461     0.874892"
      ]
     },
     "execution_count": 57,
     "metadata": {},
     "output_type": "execute_result"
    }
   ],
   "source": [
    "# model definition\n",
    "xgb_model = XGBClassifier( random_state=42, n_jobs=-1)\n",
    "\n",
    "df_xgb = metrics_at_k(xgb_model, x_train, y_train, x_val, y_val )\n",
    "df_xgb"
   ]
  },
  {
   "cell_type": "markdown",
   "metadata": {},
   "source": [
    "# 8.0 Model Performance"
   ]
  },
  {
   "attachments": {},
   "cell_type": "markdown",
   "metadata": {},
   "source": [
    "## 8.1 Single Performance"
   ]
  },
  {
   "cell_type": "code",
   "execution_count": 67,
   "metadata": {},
   "outputs": [
    {
     "data": {
      "text/html": [
       "<div>\n",
       "<style scoped>\n",
       "    .dataframe tbody tr th:only-of-type {\n",
       "        vertical-align: middle;\n",
       "    }\n",
       "\n",
       "    .dataframe tbody tr th {\n",
       "        vertical-align: top;\n",
       "    }\n",
       "\n",
       "    .dataframe thead th {\n",
       "        text-align: right;\n",
       "    }\n",
       "</style>\n",
       "<table border=\"1\" class=\"dataframe\">\n",
       "  <thead>\n",
       "    <tr style=\"text-align: right;\">\n",
       "      <th></th>\n",
       "      <th>Model_Name</th>\n",
       "      <th>Model Accuracy</th>\n",
       "      <th>Precision @K</th>\n",
       "      <th>Recall @K</th>\n",
       "      <th>ROC AUC Score</th>\n",
       "      <th>Top K Score</th>\n",
       "    </tr>\n",
       "  </thead>\n",
       "  <tbody>\n",
       "    <tr>\n",
       "      <th>0</th>\n",
       "      <td>LGBMClassifier</td>\n",
       "      <td>0.874761</td>\n",
       "      <td>0.343133</td>\n",
       "      <td>0.720676</td>\n",
       "      <td>0.857903</td>\n",
       "      <td>0.874761</td>\n",
       "    </tr>\n",
       "    <tr>\n",
       "      <th>0</th>\n",
       "      <td>XGBClassifier</td>\n",
       "      <td>0.874892</td>\n",
       "      <td>0.340933</td>\n",
       "      <td>0.716056</td>\n",
       "      <td>0.856461</td>\n",
       "      <td>0.874892</td>\n",
       "    </tr>\n",
       "    <tr>\n",
       "      <th>0</th>\n",
       "      <td>CatBoostClassifier</td>\n",
       "      <td>0.874498</td>\n",
       "      <td>0.340833</td>\n",
       "      <td>0.715846</td>\n",
       "      <td>0.856752</td>\n",
       "      <td>0.874498</td>\n",
       "    </tr>\n",
       "    <tr>\n",
       "      <th>0</th>\n",
       "      <td>RandomForestClassifier</td>\n",
       "      <td>0.864094</td>\n",
       "      <td>0.319434</td>\n",
       "      <td>0.670902</td>\n",
       "      <td>0.838271</td>\n",
       "      <td>0.864094</td>\n",
       "    </tr>\n",
       "    <tr>\n",
       "      <th>0</th>\n",
       "      <td>KNeighborsClassifier</td>\n",
       "      <td>0.858020</td>\n",
       "      <td>0.299635</td>\n",
       "      <td>0.629318</td>\n",
       "      <td>0.782844</td>\n",
       "      <td>0.858020</td>\n",
       "    </tr>\n",
       "    <tr>\n",
       "      <th>0</th>\n",
       "      <td>LogisticRegression</td>\n",
       "      <td>0.875062</td>\n",
       "      <td>0.288686</td>\n",
       "      <td>0.606322</td>\n",
       "      <td>0.817302</td>\n",
       "      <td>0.875062</td>\n",
       "    </tr>\n",
       "  </tbody>\n",
       "</table>\n",
       "</div>"
      ],
      "text/plain": [
       "               Model_Name  Model Accuracy  Precision @K  Recall @K  ROC AUC Score  Top K Score\n",
       "0          LGBMClassifier        0.874761      0.343133   0.720676       0.857903     0.874761\n",
       "0           XGBClassifier        0.874892      0.340933   0.716056       0.856461     0.874892\n",
       "0      CatBoostClassifier        0.874498      0.340833   0.715846       0.856752     0.874498\n",
       "0  RandomForestClassifier        0.864094      0.319434   0.670902       0.838271     0.864094\n",
       "0    KNeighborsClassifier        0.858020      0.299635   0.629318       0.782844     0.858020\n",
       "0      LogisticRegression        0.875062      0.288686   0.606322       0.817302     0.875062"
      ]
     },
     "execution_count": 67,
     "metadata": {},
     "output_type": "execute_result"
    }
   ],
   "source": [
    "model_performance_single = pd.concat([df_lr,df_knn,df_rf,df_lgbm,df_ctb, df_xgb ] )\n",
    "model_performance_single.sort_values('Recall @K', ascending=False)"
   ]
  },
  {
   "attachments": {},
   "cell_type": "markdown",
   "metadata": {},
   "source": [
    "## 8.2 Real Performance - Cross Validation"
   ]
  },
  {
   "cell_type": "code",
   "execution_count": 62,
   "metadata": {},
   "outputs": [],
   "source": [
    "lr_cv = cross_validation(lr_model, x_train, y_train, 5, verbose=False)\n",
    "knn_cv = cross_validation(knn_model, x_train, y_train, 5, verbose=False)\n",
    "rf_cv = cross_validation(rf_model, x_train, y_train, 5, verbose=False)\n",
    "lgbm_cv = cross_validation(lgbm_model, x_train, y_train, 5, verbose=False)\n",
    "ctb_cv = cross_validation(ctb_model, x_train, y_train, 5, verbose=False)\n",
    "xgb_cv = cross_validation(xgb_model, x_train, y_train, 5, verbose=False)"
   ]
  },
  {
   "cell_type": "code",
   "execution_count": 68,
   "metadata": {},
   "outputs": [
    {
     "data": {
      "text/html": [
       "<div>\n",
       "<style scoped>\n",
       "    .dataframe tbody tr th:only-of-type {\n",
       "        vertical-align: middle;\n",
       "    }\n",
       "\n",
       "    .dataframe tbody tr th {\n",
       "        vertical-align: top;\n",
       "    }\n",
       "\n",
       "    .dataframe thead th {\n",
       "        text-align: right;\n",
       "    }\n",
       "</style>\n",
       "<table border=\"1\" class=\"dataframe\">\n",
       "  <thead>\n",
       "    <tr style=\"text-align: right;\">\n",
       "      <th></th>\n",
       "      <th>Model Name</th>\n",
       "      <th>Model Accuracy</th>\n",
       "      <th>Precision @K Mean</th>\n",
       "      <th>Recall @K Mean</th>\n",
       "      <th>ROC AUC Score</th>\n",
       "      <th>Top @K Mean</th>\n",
       "    </tr>\n",
       "  </thead>\n",
       "  <tbody>\n",
       "    <tr>\n",
       "      <th>0</th>\n",
       "      <td>LGBMClassifier CV</td>\n",
       "      <td>0.5+/-0.0</td>\n",
       "      <td>0.308+/-0.002</td>\n",
       "      <td>0.828+/-0.005</td>\n",
       "      <td>0.854+/-0.002</td>\n",
       "      <td>0.878+/-0.0</td>\n",
       "    </tr>\n",
       "    <tr>\n",
       "      <th>0</th>\n",
       "      <td>CatBoostClassifier CV</td>\n",
       "      <td>0.505+/-0.001</td>\n",
       "      <td>0.308+/-0.001</td>\n",
       "      <td>0.828+/-0.003</td>\n",
       "      <td>0.853+/-0.001</td>\n",
       "      <td>0.877+/-0.0</td>\n",
       "    </tr>\n",
       "    <tr>\n",
       "      <th>0</th>\n",
       "      <td>XGBClassifier CV</td>\n",
       "      <td>0.505+/-0.001</td>\n",
       "      <td>0.307+/-0.001</td>\n",
       "      <td>0.826+/-0.004</td>\n",
       "      <td>0.852+/-0.001</td>\n",
       "      <td>0.877+/-0.0</td>\n",
       "    </tr>\n",
       "    <tr>\n",
       "      <th>0</th>\n",
       "      <td>RandomForestClassifier CV</td>\n",
       "      <td>0.542+/-0.001</td>\n",
       "      <td>0.291+/-0.001</td>\n",
       "      <td>0.782+/-0.003</td>\n",
       "      <td>0.833+/-0.001</td>\n",
       "      <td>0.866+/-0.001</td>\n",
       "    </tr>\n",
       "    <tr>\n",
       "      <th>0</th>\n",
       "      <td>LogisticRegression CV</td>\n",
       "      <td>0.5+/-0.0</td>\n",
       "      <td>0.275+/-0.002</td>\n",
       "      <td>0.739+/-0.005</td>\n",
       "      <td>0.818+/-0.002</td>\n",
       "      <td>0.878+/-0.0</td>\n",
       "    </tr>\n",
       "    <tr>\n",
       "      <th>0</th>\n",
       "      <td>KNeighborsClassifier CV</td>\n",
       "      <td>0.547+/-0.001</td>\n",
       "      <td>0.273+/-0.001</td>\n",
       "      <td>0.734+/-0.002</td>\n",
       "      <td>0.782+/-0.0</td>\n",
       "      <td>0.861+/-0.0</td>\n",
       "    </tr>\n",
       "  </tbody>\n",
       "</table>\n",
       "</div>"
      ],
      "text/plain": [
       "                  Model Name Model Accuracy Precision @K Mean Recall @K Mean  ROC AUC Score    Top @K Mean\n",
       "0          LGBMClassifier CV      0.5+/-0.0     0.308+/-0.002  0.828+/-0.005  0.854+/-0.002    0.878+/-0.0\n",
       "0      CatBoostClassifier CV  0.505+/-0.001     0.308+/-0.001  0.828+/-0.003  0.853+/-0.001    0.877+/-0.0\n",
       "0           XGBClassifier CV  0.505+/-0.001     0.307+/-0.001  0.826+/-0.004  0.852+/-0.001    0.877+/-0.0\n",
       "0  RandomForestClassifier CV  0.542+/-0.001     0.291+/-0.001  0.782+/-0.003  0.833+/-0.001  0.866+/-0.001\n",
       "0      LogisticRegression CV      0.5+/-0.0     0.275+/-0.002  0.739+/-0.005  0.818+/-0.002    0.878+/-0.0\n",
       "0    KNeighborsClassifier CV  0.547+/-0.001     0.273+/-0.001  0.734+/-0.002    0.782+/-0.0    0.861+/-0.0"
      ]
     },
     "execution_count": 68,
     "metadata": {},
     "output_type": "execute_result"
    }
   ],
   "source": [
    "model_performance_cv = pd.concat([lr_cv,knn_cv,rf_cv,lgbm_cv,ctb_cv,xgb_cv ] )\n",
    "model_performance_cv.sort_values('Recall @K Mean', ascending=False)"
   ]
  },
  {
   "attachments": {},
   "cell_type": "markdown",
   "metadata": {},
   "source": [
    "# 9.0 Hyperparameter fine Tuning"
   ]
  },
  {
   "cell_type": "code",
   "execution_count": 228,
   "metadata": {},
   "outputs": [],
   "source": [
    "def objective(trial):\n",
    "    \n",
    "\n",
    "    param_grid = {\n",
    "        \n",
    "        \"n_estimators\": trial.suggest_int(\"n_estimators\", 500, 1700),\n",
    "        \"max_depth\": trial.suggest_int(\"max_depth\", 3, 12),\n",
    "        \"num_leaves\": trial.suggest_int('num_leaves', 20, 3000),\n",
    "        \"min_data_in_leaf\": 100,\n",
    "        \"min_split_gain\" : trial.suggest_float('min_split_gain', 0.01, 0.1), \n",
    "        \"min_child_weight\" :trial.suggest_int('min_child_weight', 10, 75),\n",
    "        \"subsample\":  trial.suggest_float('subsample', 0.1, 1),\n",
    "        \"colsample_bytree\": trial.suggest_float('colsample_bytree', 0.4, 1),\n",
    "        \"min_child_samples\" : trial.suggest_int('min_child_samples', 1, 7)\n",
    "\n",
    "    }\n",
    "\n",
    "    model = LGBMClassifier(**param_grid)\n",
    "\n",
    "    model.fit(x_train, y_train)\n",
    "\n",
    "    yhat_lgbm = model.predict(x_val)\n",
    "    yhat_lgbm_proba = model.predict_proba(x_val)\n",
    "\n",
    "    data = x_val.copy()\n",
    "    data['response'] = y_validation.copy()\n",
    "    data['score'] = yhat_lgbm_proba[:,1].tolist()\n",
    "    data = data.sort_values('score',ascending=False)    \n",
    "\n",
    "    knum = y_validation.value_counts().count()-1\n",
    "\n",
    "    auc_roc = roc_auc_score(y_val, yhat_lgbm_proba[:, 1])\n",
    "    \n",
    "\n",
    "    return auc_roc"
   ]
  },
  {
   "cell_type": "code",
   "execution_count": 229,
   "metadata": {},
   "outputs": [
    {
     "name": "stderr",
     "output_type": "stream",
     "text": [
      "\u001b[32m[I 2023-01-08 22:37:00,415]\u001b[0m A new study created in memory with name: no-name-93c496ab-6e6e-473e-884a-4cc8d3de9529\u001b[0m\n"
     ]
    },
    {
     "name": "stdout",
     "output_type": "stream",
     "text": [
      "[LightGBM] [Warning] min_data_in_leaf is set=100, min_child_samples=20 will be ignored. Current value: min_data_in_leaf=100\n"
     ]
    },
    {
     "name": "stderr",
     "output_type": "stream",
     "text": [
      "\u001b[32m[I 2023-01-08 22:37:03,961]\u001b[0m Trial 0 finished with value: 0.8539563627717423 and parameters: {'n_estimators': 542, 'max_depth': 10, 'num_leaves': 2077, 'min_split_gain': 0.011110724366159723, 'min_child_weight': 68, 'subsample': 0.1339080794748644, 'colsample_bytree': 0.7829928356334825}. Best is trial 0 with value: 0.8539563627717423.\u001b[0m\n"
     ]
    },
    {
     "name": "stdout",
     "output_type": "stream",
     "text": [
      "[LightGBM] [Warning] min_data_in_leaf is set=100, min_child_samples=20 will be ignored. Current value: min_data_in_leaf=100\n"
     ]
    },
    {
     "name": "stderr",
     "output_type": "stream",
     "text": [
      "\u001b[32m[I 2023-01-08 22:37:06,196]\u001b[0m Trial 1 finished with value: 0.8582046530807546 and parameters: {'n_estimators': 1384, 'max_depth': 5, 'num_leaves': 1887, 'min_split_gain': 0.08882648642731517, 'min_child_weight': 49, 'subsample': 0.5078304911257142, 'colsample_bytree': 0.9044770943431685}. Best is trial 1 with value: 0.8582046530807546.\u001b[0m\n"
     ]
    },
    {
     "name": "stdout",
     "output_type": "stream",
     "text": [
      "[LightGBM] [Warning] min_data_in_leaf is set=100, min_child_samples=20 will be ignored. Current value: min_data_in_leaf=100\n"
     ]
    },
    {
     "name": "stderr",
     "output_type": "stream",
     "text": [
      "\u001b[32m[I 2023-01-08 22:37:08,797]\u001b[0m Trial 2 finished with value: 0.8576725056802769 and parameters: {'n_estimators': 1652, 'max_depth': 9, 'num_leaves': 1960, 'min_split_gain': 0.08795622621597798, 'min_child_weight': 63, 'subsample': 0.6691661956741359, 'colsample_bytree': 0.6398485162486631}. Best is trial 1 with value: 0.8582046530807546.\u001b[0m\n"
     ]
    },
    {
     "name": "stdout",
     "output_type": "stream",
     "text": [
      "[LightGBM] [Warning] min_data_in_leaf is set=100, min_child_samples=20 will be ignored. Current value: min_data_in_leaf=100\n"
     ]
    },
    {
     "name": "stderr",
     "output_type": "stream",
     "text": [
      "\u001b[32m[I 2023-01-08 22:37:12,334]\u001b[0m Trial 3 finished with value: 0.8568928342042255 and parameters: {'n_estimators': 1392, 'max_depth': 5, 'num_leaves': 1784, 'min_split_gain': 0.018964585219823422, 'min_child_weight': 32, 'subsample': 0.10491344015724507, 'colsample_bytree': 0.6270048912081067}. Best is trial 1 with value: 0.8582046530807546.\u001b[0m\n"
     ]
    },
    {
     "name": "stdout",
     "output_type": "stream",
     "text": [
      "[LightGBM] [Warning] min_data_in_leaf is set=100, min_child_samples=20 will be ignored. Current value: min_data_in_leaf=100\n"
     ]
    },
    {
     "name": "stderr",
     "output_type": "stream",
     "text": [
      "\u001b[32m[I 2023-01-08 22:37:14,114]\u001b[0m Trial 4 finished with value: 0.8567564260368691 and parameters: {'n_estimators': 625, 'max_depth': 12, 'num_leaves': 1472, 'min_split_gain': 0.09362817386859155, 'min_child_weight': 67, 'subsample': 0.32659801322816184, 'colsample_bytree': 0.6251024377087924}. Best is trial 1 with value: 0.8582046530807546.\u001b[0m\n"
     ]
    },
    {
     "name": "stdout",
     "output_type": "stream",
     "text": [
      "[LightGBM] [Warning] min_data_in_leaf is set=100, min_child_samples=20 will be ignored. Current value: min_data_in_leaf=100\n"
     ]
    },
    {
     "name": "stderr",
     "output_type": "stream",
     "text": [
      "\u001b[32m[I 2023-01-08 22:37:16,199]\u001b[0m Trial 5 finished with value: 0.8557805470857187 and parameters: {'n_estimators': 560, 'max_depth': 9, 'num_leaves': 88, 'min_split_gain': 0.02791729959790451, 'min_child_weight': 26, 'subsample': 0.8221025103085999, 'colsample_bytree': 0.7275096056207724}. Best is trial 1 with value: 0.8582046530807546.\u001b[0m\n"
     ]
    },
    {
     "name": "stdout",
     "output_type": "stream",
     "text": [
      "[LightGBM] [Warning] min_data_in_leaf is set=100, min_child_samples=20 will be ignored. Current value: min_data_in_leaf=100\n"
     ]
    },
    {
     "name": "stderr",
     "output_type": "stream",
     "text": [
      "\u001b[32m[I 2023-01-08 22:37:19,029]\u001b[0m Trial 6 finished with value: 0.85643291104203 and parameters: {'n_estimators': 1642, 'max_depth': 12, 'num_leaves': 2745, 'min_split_gain': 0.0816690562811374, 'min_child_weight': 40, 'subsample': 0.8179947418586491, 'colsample_bytree': 0.44698680263205076}. Best is trial 1 with value: 0.8582046530807546.\u001b[0m\n"
     ]
    },
    {
     "name": "stdout",
     "output_type": "stream",
     "text": [
      "[LightGBM] [Warning] min_data_in_leaf is set=100, min_child_samples=20 will be ignored. Current value: min_data_in_leaf=100\n"
     ]
    },
    {
     "name": "stderr",
     "output_type": "stream",
     "text": [
      "\u001b[32m[I 2023-01-08 22:37:21,207]\u001b[0m Trial 7 finished with value: 0.8564113335096533 and parameters: {'n_estimators': 691, 'max_depth': 7, 'num_leaves': 1004, 'min_split_gain': 0.021226729577864624, 'min_child_weight': 16, 'subsample': 0.8227552451139485, 'colsample_bytree': 0.49905020492173613}. Best is trial 1 with value: 0.8582046530807546.\u001b[0m\n"
     ]
    },
    {
     "name": "stdout",
     "output_type": "stream",
     "text": [
      "[LightGBM] [Warning] min_data_in_leaf is set=100, min_child_samples=20 will be ignored. Current value: min_data_in_leaf=100\n"
     ]
    },
    {
     "name": "stderr",
     "output_type": "stream",
     "text": [
      "\u001b[32m[I 2023-01-08 22:37:23,335]\u001b[0m Trial 8 finished with value: 0.858680484467816 and parameters: {'n_estimators': 1229, 'max_depth': 4, 'num_leaves': 2607, 'min_split_gain': 0.09783388005646032, 'min_child_weight': 72, 'subsample': 0.569482496547728, 'colsample_bytree': 0.6482054041328529}. Best is trial 8 with value: 0.858680484467816.\u001b[0m\n"
     ]
    },
    {
     "name": "stdout",
     "output_type": "stream",
     "text": [
      "[LightGBM] [Warning] min_data_in_leaf is set=100, min_child_samples=20 will be ignored. Current value: min_data_in_leaf=100\n"
     ]
    },
    {
     "name": "stderr",
     "output_type": "stream",
     "text": [
      "\u001b[32m[I 2023-01-08 22:37:26,102]\u001b[0m Trial 9 finished with value: 0.8560622806539059 and parameters: {'n_estimators': 1437, 'max_depth': 12, 'num_leaves': 1600, 'min_split_gain': 0.06380624053365447, 'min_child_weight': 53, 'subsample': 0.3394753925171229, 'colsample_bytree': 0.5928742827751116}. Best is trial 8 with value: 0.858680484467816.\u001b[0m\n"
     ]
    },
    {
     "name": "stdout",
     "output_type": "stream",
     "text": [
      "[LightGBM] [Warning] min_data_in_leaf is set=100, min_child_samples=20 will be ignored. Current value: min_data_in_leaf=100\n"
     ]
    },
    {
     "name": "stderr",
     "output_type": "stream",
     "text": [
      "\u001b[32m[I 2023-01-08 22:37:29,008]\u001b[0m Trial 10 finished with value: 0.8583468187203593 and parameters: {'n_estimators': 966, 'max_depth': 3, 'num_leaves': 2884, 'min_split_gain': 0.04664114336512181, 'min_child_weight': 74, 'subsample': 0.9950560567259428, 'colsample_bytree': 0.9573915332023898}. Best is trial 8 with value: 0.858680484467816.\u001b[0m\n"
     ]
    },
    {
     "name": "stdout",
     "output_type": "stream",
     "text": [
      "[LightGBM] [Warning] min_data_in_leaf is set=100, min_child_samples=20 will be ignored. Current value: min_data_in_leaf=100\n"
     ]
    },
    {
     "name": "stderr",
     "output_type": "stream",
     "text": [
      "\u001b[32m[I 2023-01-08 22:37:31,482]\u001b[0m Trial 11 finished with value: 0.8582722636268233 and parameters: {'n_estimators': 998, 'max_depth': 3, 'num_leaves': 2865, 'min_split_gain': 0.041260658815032186, 'min_child_weight': 71, 'subsample': 0.996463157351693, 'colsample_bytree': 0.9716131805525228}. Best is trial 8 with value: 0.858680484467816.\u001b[0m\n"
     ]
    },
    {
     "name": "stdout",
     "output_type": "stream",
     "text": [
      "[LightGBM] [Warning] min_data_in_leaf is set=100, min_child_samples=20 will be ignored. Current value: min_data_in_leaf=100\n"
     ]
    },
    {
     "name": "stderr",
     "output_type": "stream",
     "text": [
      "\u001b[32m[I 2023-01-08 22:37:33,741]\u001b[0m Trial 12 finished with value: 0.8584571962488985 and parameters: {'n_estimators': 1043, 'max_depth': 3, 'num_leaves': 2487, 'min_split_gain': 0.06231739220934142, 'min_child_weight': 75, 'subsample': 0.9843495942863768, 'colsample_bytree': 0.8272985685940419}. Best is trial 8 with value: 0.858680484467816.\u001b[0m\n"
     ]
    },
    {
     "name": "stdout",
     "output_type": "stream",
     "text": [
      "[LightGBM] [Warning] min_data_in_leaf is set=100, min_child_samples=20 will be ignored. Current value: min_data_in_leaf=100\n"
     ]
    },
    {
     "name": "stderr",
     "output_type": "stream",
     "text": [
      "\u001b[32m[I 2023-01-08 22:37:36,004]\u001b[0m Trial 13 finished with value: 0.8578095640625742 and parameters: {'n_estimators': 1153, 'max_depth': 5, 'num_leaves': 2384, 'min_split_gain': 0.06576702048482874, 'min_child_weight': 57, 'subsample': 0.5801300591269565, 'colsample_bytree': 0.81432069547137}. Best is trial 8 with value: 0.858680484467816.\u001b[0m\n"
     ]
    },
    {
     "name": "stdout",
     "output_type": "stream",
     "text": [
      "[LightGBM] [Warning] min_data_in_leaf is set=100, min_child_samples=20 will be ignored. Current value: min_data_in_leaf=100\n"
     ]
    },
    {
     "name": "stderr",
     "output_type": "stream",
     "text": [
      "\u001b[32m[I 2023-01-08 22:37:38,359]\u001b[0m Trial 14 finished with value: 0.8583670942484842 and parameters: {'n_estimators': 1217, 'max_depth': 4, 'num_leaves': 2428, 'min_split_gain': 0.07188780818916586, 'min_child_weight': 60, 'subsample': 0.410622557984589, 'colsample_bytree': 0.8416529175132547}. Best is trial 8 with value: 0.858680484467816.\u001b[0m\n"
     ]
    },
    {
     "name": "stdout",
     "output_type": "stream",
     "text": [
      "[LightGBM] [Warning] min_data_in_leaf is set=100, min_child_samples=20 will be ignored. Current value: min_data_in_leaf=100\n"
     ]
    },
    {
     "name": "stderr",
     "output_type": "stream",
     "text": [
      "\u001b[32m[I 2023-01-08 22:37:40,028]\u001b[0m Trial 15 finished with value: 0.8582706483228785 and parameters: {'n_estimators': 860, 'max_depth': 7, 'num_leaves': 997, 'min_split_gain': 0.09921249877477394, 'min_child_weight': 45, 'subsample': 0.6960914114251026, 'colsample_bytree': 0.7221465627185621}. Best is trial 8 with value: 0.858680484467816.\u001b[0m\n"
     ]
    },
    {
     "name": "stdout",
     "output_type": "stream",
     "text": [
      "[LightGBM] [Warning] min_data_in_leaf is set=100, min_child_samples=20 will be ignored. Current value: min_data_in_leaf=100\n"
     ]
    },
    {
     "name": "stderr",
     "output_type": "stream",
     "text": [
      "\u001b[32m[I 2023-01-08 22:37:42,543]\u001b[0m Trial 16 finished with value: 0.8581586869778007 and parameters: {'n_estimators': 1256, 'max_depth': 6, 'num_leaves': 2478, 'min_split_gain': 0.05434105446205328, 'min_child_weight': 75, 'subsample': 0.8776236847089653, 'colsample_bytree': 0.5340838053341358}. Best is trial 8 with value: 0.858680484467816.\u001b[0m\n"
     ]
    },
    {
     "name": "stdout",
     "output_type": "stream",
     "text": [
      "[LightGBM] [Warning] min_data_in_leaf is set=100, min_child_samples=20 will be ignored. Current value: min_data_in_leaf=100\n"
     ]
    },
    {
     "name": "stderr",
     "output_type": "stream",
     "text": [
      "\u001b[32m[I 2023-01-08 22:37:44,760]\u001b[0m Trial 17 finished with value: 0.8585838370228095 and parameters: {'n_estimators': 828, 'max_depth': 3, 'num_leaves': 2211, 'min_split_gain': 0.07714218680160839, 'min_child_weight': 61, 'subsample': 0.6634104608168314, 'colsample_bytree': 0.8849222196285634}. Best is trial 8 with value: 0.858680484467816.\u001b[0m\n"
     ]
    },
    {
     "name": "stdout",
     "output_type": "stream",
     "text": [
      "[LightGBM] [Warning] min_data_in_leaf is set=100, min_child_samples=20 will be ignored. Current value: min_data_in_leaf=100\n"
     ]
    },
    {
     "name": "stderr",
     "output_type": "stream",
     "text": [
      "\u001b[32m[I 2023-01-08 22:37:46,696]\u001b[0m Trial 18 finished with value: 0.858443059977824 and parameters: {'n_estimators': 777, 'max_depth': 4, 'num_leaves': 1227, 'min_split_gain': 0.07681283332273485, 'min_child_weight': 62, 'subsample': 0.6589054648566218, 'colsample_bytree': 0.9175065923460818}. Best is trial 8 with value: 0.858680484467816.\u001b[0m\n"
     ]
    },
    {
     "name": "stdout",
     "output_type": "stream",
     "text": [
      "[LightGBM] [Warning] min_data_in_leaf is set=100, min_child_samples=20 will be ignored. Current value: min_data_in_leaf=100\n"
     ]
    },
    {
     "name": "stderr",
     "output_type": "stream",
     "text": [
      "\u001b[32m[I 2023-01-08 22:37:48,479]\u001b[0m Trial 19 finished with value: 0.8583698399503166 and parameters: {'n_estimators': 834, 'max_depth': 4, 'num_leaves': 2158, 'min_split_gain': 0.07975549892921635, 'min_child_weight': 38, 'subsample': 0.47646665386647025, 'colsample_bytree': 0.6849447855723152}. Best is trial 8 with value: 0.858680484467816.\u001b[0m\n"
     ]
    },
    {
     "name": "stdout",
     "output_type": "stream",
     "text": [
      "[LightGBM] [Warning] min_data_in_leaf is set=100, min_child_samples=20 will be ignored. Current value: min_data_in_leaf=100\n"
     ]
    },
    {
     "name": "stderr",
     "output_type": "stream",
     "text": [
      "\u001b[32m[I 2023-01-08 22:37:50,740]\u001b[0m Trial 20 finished with value: 0.8582914504778739 and parameters: {'n_estimators': 1509, 'max_depth': 6, 'num_leaves': 103, 'min_split_gain': 0.09788560460591016, 'min_child_weight': 54, 'subsample': 0.5872891277392784, 'colsample_bytree': 0.4055450514165085}. Best is trial 8 with value: 0.858680484467816.\u001b[0m\n"
     ]
    },
    {
     "name": "stdout",
     "output_type": "stream",
     "text": [
      "[LightGBM] [Warning] min_data_in_leaf is set=100, min_child_samples=20 will be ignored. Current value: min_data_in_leaf=100\n"
     ]
    },
    {
     "name": "stderr",
     "output_type": "stream",
     "text": [
      "\u001b[32m[I 2023-01-08 22:37:53,031]\u001b[0m Trial 21 finished with value: 0.8585123881619083 and parameters: {'n_estimators': 1043, 'max_depth': 3, 'num_leaves': 2647, 'min_split_gain': 0.06245617570968127, 'min_child_weight': 65, 'subsample': 0.7243350028524701, 'colsample_bytree': 0.8653881833159975}. Best is trial 8 with value: 0.858680484467816.\u001b[0m\n"
     ]
    },
    {
     "name": "stdout",
     "output_type": "stream",
     "text": [
      "[LightGBM] [Warning] min_data_in_leaf is set=100, min_child_samples=20 will be ignored. Current value: min_data_in_leaf=100\n"
     ]
    },
    {
     "name": "stderr",
     "output_type": "stream",
     "text": [
      "\u001b[32m[I 2023-01-08 22:37:55,285]\u001b[0m Trial 22 finished with value: 0.8585467944508113 and parameters: {'n_estimators': 911, 'max_depth': 3, 'num_leaves': 2703, 'min_split_gain': 0.0501621415053692, 'min_child_weight': 66, 'subsample': 0.733812605548959, 'colsample_bytree': 0.877625114386349}. Best is trial 8 with value: 0.858680484467816.\u001b[0m\n"
     ]
    },
    {
     "name": "stdout",
     "output_type": "stream",
     "text": [
      "[LightGBM] [Warning] min_data_in_leaf is set=100, min_child_samples=20 will be ignored. Current value: min_data_in_leaf=100\n"
     ]
    },
    {
     "name": "stderr",
     "output_type": "stream",
     "text": [
      "\u001b[32m[I 2023-01-08 22:37:57,529]\u001b[0m Trial 23 finished with value: 0.8580765867145217 and parameters: {'n_estimators': 906, 'max_depth': 4, 'num_leaves': 2215, 'min_split_gain': 0.04231736909047269, 'min_child_weight': 49, 'subsample': 0.74267586403668, 'colsample_bytree': 0.769691509030292}. Best is trial 8 with value: 0.858680484467816.\u001b[0m\n"
     ]
    },
    {
     "name": "stdout",
     "output_type": "stream",
     "text": [
      "[LightGBM] [Warning] min_data_in_leaf is set=100, min_child_samples=20 will be ignored. Current value: min_data_in_leaf=100\n"
     ]
    },
    {
     "name": "stderr",
     "output_type": "stream",
     "text": [
      "\u001b[32m[I 2023-01-08 22:37:59,822]\u001b[0m Trial 24 finished with value: 0.8576580458761027 and parameters: {'n_estimators': 726, 'max_depth': 6, 'num_leaves': 2954, 'min_split_gain': 0.052286785232653725, 'min_child_weight': 68, 'subsample': 0.5623642225118818, 'colsample_bytree': 0.9002333721607958}. Best is trial 8 with value: 0.858680484467816.\u001b[0m\n"
     ]
    },
    {
     "name": "stdout",
     "output_type": "stream",
     "text": [
      "[LightGBM] [Warning] min_data_in_leaf is set=100, min_child_samples=20 will be ignored. Current value: min_data_in_leaf=100\n"
     ]
    },
    {
     "name": "stderr",
     "output_type": "stream",
     "text": [
      "\u001b[32m[I 2023-01-08 22:38:02,910]\u001b[0m Trial 25 finished with value: 0.8581126390075906 and parameters: {'n_estimators': 1110, 'max_depth': 3, 'num_leaves': 2676, 'min_split_gain': 0.03435879684096135, 'min_child_weight': 58, 'subsample': 0.6320023776941073, 'colsample_bytree': 0.7665510834331909}. Best is trial 8 with value: 0.858680484467816.\u001b[0m\n"
     ]
    },
    {
     "name": "stdout",
     "output_type": "stream",
     "text": [
      "[LightGBM] [Warning] min_data_in_leaf is set=100, min_child_samples=20 will be ignored. Current value: min_data_in_leaf=100\n"
     ]
    },
    {
     "name": "stderr",
     "output_type": "stream",
     "text": [
      "\u001b[32m[I 2023-01-08 22:38:05,283]\u001b[0m Trial 26 finished with value: 0.8580871176775704 and parameters: {'n_estimators': 1235, 'max_depth': 5, 'num_leaves': 2259, 'min_split_gain': 0.07375405709450689, 'min_child_weight': 70, 'subsample': 0.4512852929354729, 'colsample_bytree': 0.9913329295346041}. Best is trial 8 with value: 0.858680484467816.\u001b[0m\n"
     ]
    },
    {
     "name": "stdout",
     "output_type": "stream",
     "text": [
      "[LightGBM] [Warning] min_data_in_leaf is set=100, min_child_samples=20 will be ignored. Current value: min_data_in_leaf=100\n"
     ]
    },
    {
     "name": "stderr",
     "output_type": "stream",
     "text": [
      "\u001b[32m[I 2023-01-08 22:38:07,209]\u001b[0m Trial 27 finished with value: 0.8584646186177569 and parameters: {'n_estimators': 919, 'max_depth': 4, 'num_leaves': 404, 'min_split_gain': 0.08662747712674844, 'min_child_weight': 63, 'subsample': 0.7471901147976723, 'colsample_bytree': 0.6843348721192807}. Best is trial 8 with value: 0.858680484467816.\u001b[0m\n"
     ]
    },
    {
     "name": "stdout",
     "output_type": "stream",
     "text": [
      "[LightGBM] [Warning] min_data_in_leaf is set=100, min_child_samples=20 will be ignored. Current value: min_data_in_leaf=100\n"
     ]
    },
    {
     "name": "stderr",
     "output_type": "stream",
     "text": [
      "\u001b[32m[I 2023-01-08 22:38:09,707]\u001b[0m Trial 28 finished with value: 0.8584609944172875 and parameters: {'n_estimators': 1318, 'max_depth': 3, 'num_leaves': 2998, 'min_split_gain': 0.06968264878670952, 'min_child_weight': 10, 'subsample': 0.37950735713501393, 'colsample_bytree': 0.5615556191915279}. Best is trial 8 with value: 0.858680484467816.\u001b[0m\n"
     ]
    },
    {
     "name": "stdout",
     "output_type": "stream",
     "text": [
      "[LightGBM] [Warning] min_data_in_leaf is set=100, min_child_samples=20 will be ignored. Current value: min_data_in_leaf=100\n"
     ]
    },
    {
     "name": "stderr",
     "output_type": "stream",
     "text": [
      "\u001b[32m[I 2023-01-08 22:38:11,776]\u001b[0m Trial 29 finished with value: 0.8570344000087398 and parameters: {'n_estimators': 783, 'max_depth': 8, 'num_leaves': 2063, 'min_split_gain': 0.05732481561891375, 'min_child_weight': 70, 'subsample': 0.9060661525471634, 'colsample_bytree': 0.7946506392620469}. Best is trial 8 with value: 0.858680484467816.\u001b[0m\n"
     ]
    },
    {
     "name": "stdout",
     "output_type": "stream",
     "text": [
      "Best ROC AUC Score: 0.858680484467816\n",
      "Best hyperparam: {'n_estimators': 1229, 'max_depth': 4, 'num_leaves': 2607, 'min_split_gain': 0.09783388005646032, 'min_child_weight': 72, 'subsample': 0.569482496547728, 'colsample_bytree': 0.6482054041328529}\n"
     ]
    }
   ],
   "source": [
    "study = optuna.create_study(direction='maximize')\n",
    "study.optimize(objective, n_trials=30);\n",
    "\n",
    "trial = study.best_trial\n",
    "\n",
    "print('Best ROC AUC Score: {}'.format(trial.value))\n",
    "print('Best hyperparam: {}'.format(trial.params))"
   ]
  },
  {
   "attachments": {},
   "cell_type": "markdown",
   "metadata": {},
   "source": [
    "# 10.0 Final Model"
   ]
  },
  {
   "cell_type": "code",
   "execution_count": 212,
   "metadata": {},
   "outputs": [],
   "source": [
    "param_tuned = {'n_estimators': 1556, 'max_depth': 4, 'num_leaves': 1058, 'min_split_gain': 0.07650479184993597, 'min_child_weight': 45, 'subsample': 0.8342953457368258, 'colsample_bytree': 0.5281120352667489, 'min_child_samples': 3}"
   ]
  },
  {
   "cell_type": "code",
   "execution_count": 213,
   "metadata": {},
   "outputs": [],
   "source": [
    "lgbm_tuned = LGBMClassifier(**param_tuned).fit(x_train,y_train)\n"
   ]
  },
  {
   "cell_type": "code",
   "execution_count": 222,
   "metadata": {},
   "outputs": [],
   "source": [
    "# save trained model\n",
    "#pickle.dump( lgbm_tuned, open('C:\\\\Users\\\\Codo\\\\Desktop\\\\repos\\\\PA_health_insurance\\\\src\\\\models\\\\lgbm_tuned.pkl', 'wb') )"
   ]
  },
  {
   "cell_type": "code",
   "execution_count": 214,
   "metadata": {},
   "outputs": [
    {
     "data": {
      "text/html": [
       "<div>\n",
       "<style scoped>\n",
       "    .dataframe tbody tr th:only-of-type {\n",
       "        vertical-align: middle;\n",
       "    }\n",
       "\n",
       "    .dataframe tbody tr th {\n",
       "        vertical-align: top;\n",
       "    }\n",
       "\n",
       "    .dataframe thead th {\n",
       "        text-align: right;\n",
       "    }\n",
       "</style>\n",
       "<table border=\"1\" class=\"dataframe\">\n",
       "  <thead>\n",
       "    <tr style=\"text-align: right;\">\n",
       "      <th></th>\n",
       "      <th>Model Name</th>\n",
       "      <th>Model Accuracy</th>\n",
       "      <th>Precision @K Mean</th>\n",
       "      <th>Recall @K Mean</th>\n",
       "      <th>ROC AUC Score</th>\n",
       "      <th>Top @K Mean</th>\n",
       "    </tr>\n",
       "  </thead>\n",
       "  <tbody>\n",
       "    <tr>\n",
       "      <th>0</th>\n",
       "      <td>LGBMClassifier CV</td>\n",
       "      <td>0.502+/-0.0</td>\n",
       "      <td>0.309+/-0.001</td>\n",
       "      <td>0.831+/-0.004</td>\n",
       "      <td>0.855+/-0.002</td>\n",
       "      <td>0.878+/-0.0</td>\n",
       "    </tr>\n",
       "  </tbody>\n",
       "</table>\n",
       "</div>"
      ],
      "text/plain": [
       "          Model Name Model Accuracy Precision @K Mean Recall @K Mean  ROC AUC Score  Top @K Mean\n",
       "0  LGBMClassifier CV    0.502+/-0.0     0.309+/-0.001  0.831+/-0.004  0.855+/-0.002  0.878+/-0.0"
      ]
     },
     "execution_count": 214,
     "metadata": {},
     "output_type": "execute_result"
    }
   ],
   "source": [
    "lgb_cv = cross_validation(lgbm_tuned, x_train, y_train, 5, verbose=False)\n",
    "\n",
    "lgb_cv"
   ]
  },
  {
   "attachments": {},
   "cell_type": "markdown",
   "metadata": {},
   "source": [
    "# 11.0 Business Perfomance"
   ]
  },
  {
   "cell_type": "code",
   "execution_count": 215,
   "metadata": {},
   "outputs": [],
   "source": [
    "# predictions\n",
    "yhat_lgbm_final = lgbm_tuned.predict_proba(x_val)\n",
    "\n",
    "\n",
    "data = x_validation.copy()\n",
    "data['response'] = y_validation.copy()\n",
    "data['score'] = yhat_lgbm_final[:, 1].tolist()\n",
    "data = data.sort_values('score', ascending=False)\n"
   ]
  },
  {
   "attachments": {},
   "cell_type": "markdown",
   "metadata": {},
   "source": [
    "## 9.1 Business questions"
   ]
  },
  {
   "attachments": {},
   "cell_type": "markdown",
   "metadata": {},
   "source": [
    "**1 -**  Qual a porcentagem de clientes interessados em adquirir um seguro de automóvel que a equipe de vendas conseguirá entrando em contato com 20.000 clientes?"
   ]
  },
  {
   "attachments": {},
   "cell_type": "markdown",
   "metadata": {},
   "source": [
    "**R:** A equipe de vendas conseguirá atingir 72,12% das pessoas interessadas entrando em contato com 20.000 clientes(26,24% do conjunto total dos dados de validação).\n",
    "\n",
    "Observando o gráfico da \"Lift Curve\" podemos concluir que o modelo é aproximadamente 2,75 vezes melhor que uma escolha aleatória."
   ]
  },
  {
   "cell_type": "code",
   "execution_count": 216,
   "metadata": {},
   "outputs": [
    {
     "name": "stdout",
     "output_type": "stream",
     "text": [
      "Percent of data: 26.24% \n",
      "Recall at K :  0.7212013021106795\n",
      "Precision at K :  0.34338283085845706\n"
     ]
    },
    {
     "data": {
      "image/png": "[encoded data removed]",
      "text/plain": [
       "<Figure size 1800x504 with 2 Axes>"
      ]
     },
     "metadata": {},
     "output_type": "display_data"
    }
   ],
   "source": [
    "perc_data = 20000 / len(data)\n",
    "recall_at_20000 = recall_at_k(data, k=20000)\n",
    "precision_at_20000=precision_at_k(data, k=20000)\n",
    "\n",
    "print('Percent of data: {:.2%} '.format(perc_data))\n",
    "print('Recall at K : ',recall_at_20000)\n",
    "print('Precision at K : ',precision_at_20000)\n",
    "\n",
    "\n",
    "fig, axs = plt.subplots(ncols=2, figsize=(25,7))\n",
    "skplt.metrics.plot_cumulative_gain(y_validation, yhat_lgbm_final, ax=axs[0], text_fontsize='small', title='Cumulative Gain Curve ')\n",
    "axs[0].axvline(perc_data, 0, 1, color='red', ls='--', lw=2);\n",
    "\n",
    "skplt.metrics.plot_lift_curve(y_validation, yhat_lgbm_final, ax=axs[1], text_fontsize='small', title='Lift Curve ')\n",
    "axs[1].axvline(perc_data, 0, 1, color='red', ls='--', lw=2);\n",
    "plt.xlim(0.1,1);\n",
    "plt.ylim(0,3);\n",
    "\n"
   ]
  },
  {
   "attachments": {},
   "cell_type": "markdown",
   "metadata": {},
   "source": [
    "**2 -** Considerando que a equipe de vendas tenha disponibilidade de aumentar o contato para 40.000 clientes, qual a porcentagem de clientes interessados em adquirir seguro de carro ?"
   ]
  },
  {
   "attachments": {},
   "cell_type": "markdown",
   "metadata": {},
   "source": [
    "**R:** Dentro desse cenário a equipe entraria em contato com 52,48% do total de clientes do nosso conjunto de dados e atingiria 99,41% das pessoas interessadas.\n",
    "\n",
    "Podemos concluir de acordo com o gráfico \"Lift Curve\" que com 40.000 contatos nosso modelo é cerca 1,9 vezes melhor que uma escolha aleatória."
   ]
  },
  {
   "cell_type": "code",
   "execution_count": 217,
   "metadata": {},
   "outputs": [
    {
     "name": "stdout",
     "output_type": "stream",
     "text": [
      "Percent of data: 52.48% \n",
      "Recall at K :  0.9941195001575134\n",
      "Precision at K :  0.2366690832729182\n"
     ]
    },
    {
     "data": {
      "image/png": "[encoded data removed]",
      "text/plain": [
       "<Figure size 1800x504 with 2 Axes>"
      ]
     },
     "metadata": {},
     "output_type": "display_data"
    }
   ],
   "source": [
    "perc_data = 40000 / len(data)\n",
    "recall_at_40000 = recall_at_k(data, k=40000)\n",
    "precision_at_40000=precision_at_k(data, k=40000)\n",
    "\n",
    "print('Percent of data: {:.2%} '.format(perc_data))\n",
    "print('Recall at K : ',recall_at_40000)\n",
    "print('Precision at K : ',precision_at_40000)\n",
    "\n",
    "\n",
    "fig, axs = plt.subplots(ncols=2, figsize=(25,7))\n",
    "skplt.metrics.plot_cumulative_gain(y_validation, yhat_lgbm_final, ax=axs[0], text_fontsize='small', title='Cumulative Gain Curve ')\n",
    "axs[0].axvline(perc_data, 0, 1, color='red', ls='--', lw=2);\n",
    "\n",
    "skplt.metrics.plot_lift_curve(y_validation, yhat_lgbm_final, ax=axs[1], text_fontsize='small', title='Lift Curve ')\n",
    "axs[1].axvline(perc_data, 0, 1, color='red', ls='--', lw=2);\n",
    "plt.xlim(0.1,1);\n",
    "plt.ylim(0,3);\n"
   ]
  },
  {
   "attachments": {},
   "cell_type": "markdown",
   "metadata": {},
   "source": [
    "## 9.2 Revenue Business Performance"
   ]
  },
  {
   "attachments": {},
   "cell_type": "markdown",
   "metadata": {},
   "source": [
    "Considerando 76.222 clientes de nossa base de validação, vamos calcular a receita que seria gerada fixando o preço do seguro em $2.000,00/ano. Utilizaremos como comparação um modelo aleatório que poderia ser qualquer ordenação da lista através de algum atributo específico.\n"
   ]
  },
  {
   "cell_type": "code",
   "execution_count": 218,
   "metadata": {},
   "outputs": [
    {
     "data": {
      "text/plain": [
       "(76222, 15)"
      ]
     },
     "execution_count": 218,
     "metadata": {},
     "output_type": "execute_result"
    }
   ],
   "source": [
    "data.shape"
   ]
  },
  {
   "cell_type": "code",
   "execution_count": 219,
   "metadata": {},
   "outputs": [
    {
     "data": {
      "text/plain": [
       "0    66699\n",
       "1     9523\n",
       "Name: response, dtype: int64"
      ]
     },
     "execution_count": 219,
     "metadata": {},
     "output_type": "execute_result"
    }
   ],
   "source": [
    "y_validation.value_counts()"
   ]
  },
  {
   "attachments": {},
   "cell_type": "markdown",
   "metadata": {},
   "source": [
    "### 20.000 calls"
   ]
  },
  {
   "cell_type": "code",
   "execution_count": 220,
   "metadata": {},
   "outputs": [
    {
     "name": "stdout",
     "output_type": "stream",
     "text": [
      "Annual Revenue by Random Model: U$ 4,998,000\n",
      "Annual Revenue by Model Suggested: U$ 13,736,000\n",
      "Difference between models:U$ 8,738,000 \n"
     ]
    }
   ],
   "source": [
    "cost_insurance = 2000\n",
    "\n",
    "model_random = int(np.round( (26.24 / 100 ) * 9523 ) ) # ( %data ) * len(response= 1)\n",
    "model_lgbm = int(np.round( (72.12 / 100) * 9523 ) ) # (% recall(20000 calls) * len(response=1 ) )\n",
    "\n",
    "revenue_random = cost_insurance * model_random \n",
    "revenue_model = cost_insurance * model_lgbm\n",
    "\n",
    "\n",
    "print('Annual Revenue by Random Model: U$ {:,}'.format(revenue_random))\n",
    "print('Annual Revenue by Model Suggested: U$ {:,}'.format(revenue_model))\n",
    "print('Difference between models:U$ {:,} ' .format(revenue_model-revenue_random) )"
   ]
  },
  {
   "attachments": {},
   "cell_type": "markdown",
   "metadata": {},
   "source": [
    "### 40.000 calls"
   ]
  },
  {
   "cell_type": "code",
   "execution_count": 221,
   "metadata": {},
   "outputs": [
    {
     "name": "stdout",
     "output_type": "stream",
     "text": [
      "Annual Revenue by Random Model: U$ 9,994,000\n",
      "Annual Revenue by Model Suggested: U$ 18,932,000\n",
      "Difference between models:U$ 8,938,000 \n"
     ]
    }
   ],
   "source": [
    "cost_insurance = 2000\n",
    "\n",
    "model_random = int( (52.48 / 100 ) * 9523 ) # ( %data ) * len(response= 1)\n",
    "model_lgbm = int( (99.41 / 100) * 9523 ) # (% recall(40000 calls) * len(response=1 ) )\n",
    "\n",
    "revenue_random = cost_insurance * model_random \n",
    "revenue_model = cost_insurance * model_lgbm\n",
    "\n",
    "print('Annual Revenue by Random Model: U$ {:,}'.format(revenue_random))\n",
    "print('Annual Revenue by Model Suggested: U$ {:,}'.format(revenue_model))\n",
    "print('Difference between models:U$ {:,} ' .format(revenue_model-revenue_random) )"
   ]
  },
  {
   "attachments": {},
   "cell_type": "markdown",
   "metadata": {},
   "source": [
    "# 10.0 Deploy"
   ]
  },
  {
   "cell_type": "code",
   "execution_count": 236,
   "metadata": {},
   "outputs": [],
   "source": [
    "# Save trained model\n",
    "pickle.dump( lgbm_tuned, open( 'C:\\\\Users\\\\Codo\\\\Desktop\\\\repos\\\\PA_health_insurance\\\\src\\\\models\\\\model_lgbm.pkl', 'wb' ) )"
   ]
  },
  {
   "cell_type": "code",
   "execution_count": 418,
   "metadata": {},
   "outputs": [
    {
     "data": {
      "text/html": [
       "<div>\n",
       "<style scoped>\n",
       "    .dataframe tbody tr th:only-of-type {\n",
       "        vertical-align: middle;\n",
       "    }\n",
       "\n",
       "    .dataframe tbody tr th {\n",
       "        vertical-align: top;\n",
       "    }\n",
       "\n",
       "    .dataframe thead th {\n",
       "        text-align: right;\n",
       "    }\n",
       "</style>\n",
       "<table border=\"1\" class=\"dataframe\">\n",
       "  <thead>\n",
       "    <tr style=\"text-align: right;\">\n",
       "      <th></th>\n",
       "      <th>id</th>\n",
       "      <th>Gender</th>\n",
       "      <th>Age</th>\n",
       "      <th>Driving_License</th>\n",
       "      <th>Region_Code</th>\n",
       "      <th>Previously_Insured</th>\n",
       "      <th>Vehicle_Age</th>\n",
       "      <th>Vehicle_Damage</th>\n",
       "      <th>Annual_Premium</th>\n",
       "      <th>Policy_Sales_Channel</th>\n",
       "      <th>Vintage</th>\n",
       "    </tr>\n",
       "  </thead>\n",
       "  <tbody>\n",
       "    <tr>\n",
       "      <th>0</th>\n",
       "      <td>381110</td>\n",
       "      <td>Male</td>\n",
       "      <td>25</td>\n",
       "      <td>1</td>\n",
       "      <td>11.0</td>\n",
       "      <td>1</td>\n",
       "      <td>&lt; 1 Year</td>\n",
       "      <td>No</td>\n",
       "      <td>35786.0</td>\n",
       "      <td>152.0</td>\n",
       "      <td>53</td>\n",
       "    </tr>\n",
       "    <tr>\n",
       "      <th>1</th>\n",
       "      <td>381111</td>\n",
       "      <td>Male</td>\n",
       "      <td>40</td>\n",
       "      <td>1</td>\n",
       "      <td>28.0</td>\n",
       "      <td>0</td>\n",
       "      <td>1-2 Year</td>\n",
       "      <td>Yes</td>\n",
       "      <td>33762.0</td>\n",
       "      <td>7.0</td>\n",
       "      <td>111</td>\n",
       "    </tr>\n",
       "    <tr>\n",
       "      <th>2</th>\n",
       "      <td>381112</td>\n",
       "      <td>Male</td>\n",
       "      <td>47</td>\n",
       "      <td>1</td>\n",
       "      <td>28.0</td>\n",
       "      <td>0</td>\n",
       "      <td>1-2 Year</td>\n",
       "      <td>Yes</td>\n",
       "      <td>40050.0</td>\n",
       "      <td>124.0</td>\n",
       "      <td>199</td>\n",
       "    </tr>\n",
       "    <tr>\n",
       "      <th>3</th>\n",
       "      <td>381113</td>\n",
       "      <td>Male</td>\n",
       "      <td>24</td>\n",
       "      <td>1</td>\n",
       "      <td>27.0</td>\n",
       "      <td>1</td>\n",
       "      <td>&lt; 1 Year</td>\n",
       "      <td>Yes</td>\n",
       "      <td>37356.0</td>\n",
       "      <td>152.0</td>\n",
       "      <td>187</td>\n",
       "    </tr>\n",
       "    <tr>\n",
       "      <th>4</th>\n",
       "      <td>381114</td>\n",
       "      <td>Male</td>\n",
       "      <td>27</td>\n",
       "      <td>1</td>\n",
       "      <td>28.0</td>\n",
       "      <td>1</td>\n",
       "      <td>&lt; 1 Year</td>\n",
       "      <td>No</td>\n",
       "      <td>59097.0</td>\n",
       "      <td>152.0</td>\n",
       "      <td>297</td>\n",
       "    </tr>\n",
       "  </tbody>\n",
       "</table>\n",
       "</div>"
      ],
      "text/plain": [
       "       id Gender  Age  Driving_License  Region_Code  Previously_Insured Vehicle_Age Vehicle_Damage  Annual_Premium  Policy_Sales_Channel  Vintage\n",
       "0  381110   Male   25                1         11.0                   1    < 1 Year             No         35786.0                 152.0       53\n",
       "1  381111   Male   40                1         28.0                   0    1-2 Year            Yes         33762.0                   7.0      111\n",
       "2  381112   Male   47                1         28.0                   0    1-2 Year            Yes         40050.0                 124.0      199\n",
       "3  381113   Male   24                1         27.0                   1    < 1 Year            Yes         37356.0                 152.0      187\n",
       "4  381114   Male   27                1         28.0                   1    < 1 Year             No         59097.0                 152.0      297"
      ]
     },
     "execution_count": 418,
     "metadata": {},
     "output_type": "execute_result"
    }
   ],
   "source": [
    "test = df_test.copy()\n",
    "test.head()"
   ]
  },
  {
   "cell_type": "code",
   "execution_count": 419,
   "metadata": {},
   "outputs": [],
   "source": [
    "cols_test = [col_test.lower() for col_test in test.columns]\n",
    "test.columns = cols_test\n",
    "\n",
    "# vehicle_damage\n",
    "test['vehicle_damage'] = test['vehicle_damage'].apply( lambda x: 1 if x == 'Yes' else 0 )\n",
    "\n",
    "# vehicle_age\n",
    "test['vehicle_age'] = test['vehicle_age']. apply( lambda x: 'over_2_years' if x == '> 2 Years' else 'between_1_2_year' if x == '1-2 Year' else 'below_1_year' )"
   ]
  },
  {
   "cell_type": "code",
   "execution_count": 420,
   "metadata": {},
   "outputs": [],
   "source": [
    "annual_premium_scaler = pickle.load( open( 'C:\\\\Users\\\\Codo\\\\Desktop\\\\repos\\\\PA_health_insurance\\\\src\\\\features\\\\annual_premium_scaler.pkl','rb' ) )\n",
    "age_scaler = pickle.load( open( 'C:\\\\Users\\\\Codo\\\\Desktop\\\\repos\\\\PA_health_insurance\\\\src\\\\features\\\\age_scaler.pkl','rb' ) ) \n",
    "vintage_scaler = pickle.load( open( 'C:\\\\Users\\\\Codo\\\\Desktop\\\\repos\\\\PA_health_insurance\\\\src\\\\features\\\\vintage_scaler.pkl','rb' ) ) \n",
    "target_encode_gender_scaler = pickle.load( open( 'C:\\\\Users\\\\Codo\\\\Desktop\\\\repos\\\\PA_health_insurance\\\\src\\\\features\\\\target_encode_gender_scaler.pkl','rb'  ) )\n",
    "target_encode_region_scaler = pickle.load( open( 'C:\\\\Users\\\\Codo\\\\Desktop\\\\repos\\\\PA_health_insurance\\\\src\\\\features\\\\target_encode_region_code_scaler.pkl','rb'  ) )\n",
    "fe_policy_sales_channel_scaler = pickle.load( open( 'C:\\\\Users\\\\Codo\\\\Desktop\\\\repos\\\\PA_health_insurance\\\\src\\\\features\\\\fe_policy_sales_channel_scaler.pkl','rb'  ) )\n",
    "\n",
    "\n",
    "# anual premium - StandarScaler\n",
    "test['annual_premium'] = annual_premium_scaler.transform( test[['annual_premium']].values )\n",
    "\n",
    "\n",
    "# Age - MinMaxScaler\n",
    "test['age'] = age_scaler.transform( test[['age']].values )\n",
    "\n",
    "# Vintage - Target Encoding\n",
    "test['vintage'] = age_scaler.transform( test[['vintage']].values )\n",
    "\n",
    "# gender - One Hot Encoding / Target Encoding\n",
    "test.loc[:, 'gender'] = test['gender'].map( target_encode_gender_scaler )\n",
    "\n",
    "# region_code - Target Encoding\n",
    "test.loc[:, 'region_code'] = test['region_code'].map( target_encode_region_scaler )\n",
    "\n",
    "\n",
    "# vehicle_age - One Hot Encoding / Frequency Encoding\n",
    "test = pd.get_dummies( test, prefix='vehicle_age', columns=['vehicle_age'] )\n",
    "\n",
    "# policy_sales_channel - Target Encoding\n",
    "test.loc[:, 'policy_sales_channel'] = test['policy_sales_channel'].map( fe_policy_sales_channel_scaler )\n",
    "\n",
    "test = test.fillna(0)"
   ]
  },
  {
   "cell_type": "code",
   "execution_count": 421,
   "metadata": {},
   "outputs": [
    {
     "data": {
      "text/plain": [
       "id                              0\n",
       "gender                          0\n",
       "age                             0\n",
       "driving_license                 0\n",
       "region_code                     0\n",
       "previously_insured              0\n",
       "vehicle_damage                  0\n",
       "annual_premium                  0\n",
       "policy_sales_channel            0\n",
       "vintage                         0\n",
       "vehicle_age_below_1_year        0\n",
       "vehicle_age_between_1_2_year    0\n",
       "vehicle_age_over_2_years        0\n",
       "dtype: int64"
      ]
     },
     "execution_count": 421,
     "metadata": {},
     "output_type": "execute_result"
    }
   ],
   "source": [
    "test.isna().sum()"
   ]
  },
  {
   "cell_type": "code",
   "execution_count": 422,
   "metadata": {},
   "outputs": [],
   "source": [
    "cols_selected = ['annual_premium', 'vintage', 'age', 'region_code', 'vehicle_damage', 'previously_insured', 'policy_sales_channel']\n",
    "\n",
    "test = test[ cols_selected ]"
   ]
  },
  {
   "cell_type": "code",
   "execution_count": 423,
   "metadata": {},
   "outputs": [],
   "source": [
    "model_lgbm = pickle.load( open( 'C:\\\\Users\\\\Codo\\\\Desktop\\\\repos\\\\PA_health_insurance\\\\src\\\\models\\\\model_lgbm.pkl', 'rb' ) )\n",
    "yhat_lgbm_proba = model_lgbm.predict_proba( test )\n"
   ]
  },
  {
   "cell_type": "code",
   "execution_count": 424,
   "metadata": {},
   "outputs": [
    {
     "data": {
      "text/html": [
       "<div>\n",
       "<style scoped>\n",
       "    .dataframe tbody tr th:only-of-type {\n",
       "        vertical-align: middle;\n",
       "    }\n",
       "\n",
       "    .dataframe tbody tr th {\n",
       "        vertical-align: top;\n",
       "    }\n",
       "\n",
       "    .dataframe thead th {\n",
       "        text-align: right;\n",
       "    }\n",
       "</style>\n",
       "<table border=\"1\" class=\"dataframe\">\n",
       "  <thead>\n",
       "    <tr style=\"text-align: right;\">\n",
       "      <th></th>\n",
       "      <th>id</th>\n",
       "      <th>Gender</th>\n",
       "      <th>Age</th>\n",
       "      <th>Driving_License</th>\n",
       "      <th>Region_Code</th>\n",
       "      <th>Previously_Insured</th>\n",
       "      <th>Vehicle_Age</th>\n",
       "      <th>Vehicle_Damage</th>\n",
       "      <th>Annual_Premium</th>\n",
       "      <th>Policy_Sales_Channel</th>\n",
       "      <th>Vintage</th>\n",
       "      <th>Score</th>\n",
       "      <th>Ranking</th>\n",
       "    </tr>\n",
       "  </thead>\n",
       "  <tbody>\n",
       "    <tr>\n",
       "      <th>0</th>\n",
       "      <td>476782</td>\n",
       "      <td>Female</td>\n",
       "      <td>32</td>\n",
       "      <td>1</td>\n",
       "      <td>30.0</td>\n",
       "      <td>0</td>\n",
       "      <td>1-2 Year</td>\n",
       "      <td>Yes</td>\n",
       "      <td>27342.0</td>\n",
       "      <td>163.0</td>\n",
       "      <td>255</td>\n",
       "      <td>0.595664</td>\n",
       "      <td>1</td>\n",
       "    </tr>\n",
       "    <tr>\n",
       "      <th>1</th>\n",
       "      <td>469061</td>\n",
       "      <td>Male</td>\n",
       "      <td>29</td>\n",
       "      <td>1</td>\n",
       "      <td>30.0</td>\n",
       "      <td>0</td>\n",
       "      <td>1-2 Year</td>\n",
       "      <td>Yes</td>\n",
       "      <td>27069.0</td>\n",
       "      <td>163.0</td>\n",
       "      <td>191</td>\n",
       "      <td>0.594414</td>\n",
       "      <td>2</td>\n",
       "    </tr>\n",
       "    <tr>\n",
       "      <th>2</th>\n",
       "      <td>387873</td>\n",
       "      <td>Female</td>\n",
       "      <td>31</td>\n",
       "      <td>1</td>\n",
       "      <td>10.0</td>\n",
       "      <td>0</td>\n",
       "      <td>1-2 Year</td>\n",
       "      <td>Yes</td>\n",
       "      <td>29340.0</td>\n",
       "      <td>163.0</td>\n",
       "      <td>19</td>\n",
       "      <td>0.578083</td>\n",
       "      <td>3</td>\n",
       "    </tr>\n",
       "    <tr>\n",
       "      <th>3</th>\n",
       "      <td>446265</td>\n",
       "      <td>Male</td>\n",
       "      <td>35</td>\n",
       "      <td>1</td>\n",
       "      <td>30.0</td>\n",
       "      <td>0</td>\n",
       "      <td>1-2 Year</td>\n",
       "      <td>Yes</td>\n",
       "      <td>29117.0</td>\n",
       "      <td>124.0</td>\n",
       "      <td>219</td>\n",
       "      <td>0.578020</td>\n",
       "      <td>4</td>\n",
       "    </tr>\n",
       "    <tr>\n",
       "      <th>4</th>\n",
       "      <td>382880</td>\n",
       "      <td>Male</td>\n",
       "      <td>33</td>\n",
       "      <td>1</td>\n",
       "      <td>30.0</td>\n",
       "      <td>0</td>\n",
       "      <td>&lt; 1 Year</td>\n",
       "      <td>Yes</td>\n",
       "      <td>23753.0</td>\n",
       "      <td>163.0</td>\n",
       "      <td>179</td>\n",
       "      <td>0.576734</td>\n",
       "      <td>5</td>\n",
       "    </tr>\n",
       "  </tbody>\n",
       "</table>\n",
       "</div>"
      ],
      "text/plain": [
       "       id  Gender  Age  Driving_License  Region_Code  Previously_Insured Vehicle_Age Vehicle_Damage  Annual_Premium  Policy_Sales_Channel  Vintage     Score  Ranking\n",
       "0  476782  Female   32                1         30.0                   0    1-2 Year            Yes         27342.0                 163.0      255  0.595664        1\n",
       "1  469061    Male   29                1         30.0                   0    1-2 Year            Yes         27069.0                 163.0      191  0.594414        2\n",
       "2  387873  Female   31                1         10.0                   0    1-2 Year            Yes         29340.0                 163.0       19  0.578083        3\n",
       "3  446265    Male   35                1         30.0                   0    1-2 Year            Yes         29117.0                 124.0      219  0.578020        4\n",
       "4  382880    Male   33                1         30.0                   0    < 1 Year            Yes         23753.0                 163.0      179  0.576734        5"
      ]
     },
     "execution_count": 424,
     "metadata": {},
     "output_type": "execute_result"
    }
   ],
   "source": [
    "df_test['Score'] = yhat_lgbm_proba[:, 1]\n",
    "df_test = df_test.sort_values('Score', ascending=False)\n",
    "df_test = df_test.reset_index(drop=True)\n",
    "df_test['Ranking'] = df_test.index + 1\n",
    "df_test.head()"
   ]
  },
  {
   "cell_type": "markdown",
   "metadata": {},
   "source": [
    "##  9.1 Health Insurance Class"
   ]
  },
  {
   "cell_type": "code",
   "execution_count": null,
   "metadata": {},
   "outputs": [],
   "source": [
    "import pickle\n",
    "import numpy as np\n",
    "import pandas as pd\n",
    "\n",
    "class HealthInsurance:\n",
    "    \n",
    "    def __init__( self ):\n",
    "        self.home_path = 'C:\\\\Users\\\\Codo\\\\Desktop\\\\repos\\\\PA_health_insurance'\n",
    "        self.annual_premium_scaler = pickle.load(open( self.home_path + 'src\\\\features\\\\annual_premium_scaler.pkl') )\n",
    "        self.age_scaler = pickle.load(open( self.home_path + 'src\\\\features\\\\age_scaler.pkl') )\n",
    "        self.vintage_scaler = pickle.load(open( self.home_path + 'src\\\\features\\\\vintage_scaler.pkl') )\n",
    "        self.target_encode_gender_scaler = pickle.load( open( self.home_path + 'src\\\\features\\\\target_encode_gender_scaler.pkl') )\n",
    "        self.target_encode_region_code_scaler = pickle.load( open( self.home_path + 'src\\\\features\\\\target_encode_region_code_scaler.pkl') )\n",
    "        self.fe_policy_sales_channel_scaler = pickle.load( open( self.home_path + 'src\\\\features\\\\fe_policy_sales_channel_scaler.pkl') ) \n",
    "\n",
    "    def data_cleaning( self, df1 ):\n",
    "        # 1.1 Rename Columns\n",
    "        cols_new = ['id', 'gender', 'age', 'driving_license', 'region_code', 'previously_insured', 'vehicle_age', \n",
    "                    'vehicle_damage', 'annual_premium', 'policy_sales_channel', 'vintage']\n",
    "\n",
    "        # rename \n",
    "        df1.columns = cols_new\n",
    "                \n",
    "        return df1 \n",
    "\n",
    "    def feature_engineering( self, df2 ):\n",
    "\n",
    "        # vehicle_damage\n",
    "        df2['vehicle_damage'] = df2['vehicle_damage'].apply( lambda x: 1 if x == 'Yes' else 0 )\n",
    "\n",
    "        # vehicle_age\n",
    "        df2['vehicle_age'] = df2['vehicle_age']. apply( lambda x: 'over_2_years' if x == '> 2 Years' else 'between_1_2_year' if x == '1-2 Year' else 'below_1_year' )\n",
    "            \n",
    "\n",
    "        return df2\n",
    "        \n",
    "    def data_preparation ( self, df5):\n",
    "\n",
    "        # annual_premium\n",
    "        df5['annual_premium'] = self.annual_premium_scaler.transform( df5[['annual_premium']].values )\n",
    "\n",
    "        # age - MinMaxScaler\n",
    "        df5['age'] = self.age_scaler.transform( df5[['age']].values )\n",
    "       \n",
    "        # vintage - MinMaxScaler\n",
    "        df5['vintage'] = self.vintage_scaler.transform( df5[['vintage']].values )\n",
    "        \n",
    "        # gender - One Hot Encoding / Target Enconding\n",
    "        df5.loc[:, 'gender'] = df5['gender'].map( self.target_encode_gender_scaler )\n",
    "        \n",
    "        # region_code -  Frequency Enconding / Target Enconding\n",
    "        df5.loc[:, 'region_code'] = df5['region_code'].map( self.target_encode_gender_scaler )\n",
    "        \n",
    "        # vehicle_age - One Hot Enconding / Frequency Enconding \n",
    "        df5 = pd.get_dummies( df5, prefix='vehicle_age', columns=['vehicle_age'] )\n",
    "\n",
    "        # policy_sales_channel - Frequency Encoding\n",
    "        df5.loc[:, 'policy_sales_channel'] = df5['policy_sales_channel'].map( self.fe_policy_sales_channel_scaler )\n",
    "\n",
    "        # Feature Selection\n",
    "        cols_selected = ['annual_premium', 'vintage', 'age', 'region_code', 'vehicle_damage', 'previously_insured',\n",
    "                         'policy_sales_channel']\n",
    "\n",
    "        return df5[ cols_selected ]\n",
    "\n",
    "    def get_prediction( self, model, original_data, test_data ):\n",
    "        # model prediction\n",
    "        pred = model.predict_proba( test_data )\n",
    "        \n",
    "        # join prediction into original data\n",
    "        original_data['prediction'] = pred\n",
    "        \n",
    "        return original_data.to_json( orient='records', date_format='iso' )\n",
    "\n"
   ]
  },
  {
   "cell_type": "markdown",
   "metadata": {},
   "source": [
    "## 9.2 API Handler"
   ]
  },
  {
   "cell_type": "code",
   "execution_count": null,
   "metadata": {},
   "outputs": [],
   "source": [
    "import pickle\n",
    "import pandas as pd\n",
    "from flask import Flask, request, Response\n",
    "from healthinsurance.HealthInsurance import HealthInsurance\n",
    "\n",
    "# loading model\n",
    "path = 'C:\\\\Users\\\\Codo\\\\Desktop\\\\repos\\\\PA_health_insurance'\n",
    "model = pickle.load( open( path + '\\\\src\\\\models\\\\model_linear_regression.pkl', 'rb' ) )\n",
    "\n",
    "# initialize API\n",
    "app = Flask( __name__ )\n",
    "\n",
    "@app.route( '/heathinsurance/predict', methods=['POST'] )\n",
    "def healthinsurance_predict():\n",
    "    test_json = request.get_json()\n",
    "    \n",
    "    if test_json: # there is data\n",
    "        if isinstance( test_json, dict ): # unique example\n",
    "            test_raw = pd.DataFrame( test_json, index=[0] )\n",
    "            \n",
    "        else: # multiple example\n",
    "            test_raw = pd.DataFrame( test_json, columns=test_json[0].keys() )\n",
    "            \n",
    "        # Instantiate Rossmann class\n",
    "        pipeline = HealthInsurance()\n",
    "        \n",
    "        # data cleaning\n",
    "        df1 = pipeline.data_cleaning( test_raw )\n",
    "        \n",
    "        # feature engineering\n",
    "        df2 = pipeline.feature_engineering( df1 )\n",
    "        \n",
    "        # data preparation\n",
    "        df3 = pipeline.data_preparation( df2 )\n",
    "        \n",
    "        # prediction\n",
    "        df_response = pipeline.get_prediction( model, test_raw, df3 )\n",
    "        \n",
    "        return df_response\n",
    "    \n",
    "    else:\n",
    "        return Response( '{}', status=200, mimetype='application/json' )\n",
    "    \n",
    "if __name__ == '__main__':\n",
    "    app.run( '0.0.0.0' )"
   ]
  },
  {
   "cell_type": "markdown",
   "metadata": {},
   "source": [
    "## 9.3 API Tester"
   ]
  },
  {
   "cell_type": "code",
   "execution_count": null,
   "metadata": {},
   "outputs": [],
   "source": [
    "import requests\n",
    "import json\n",
    "import math"
   ]
  },
  {
   "cell_type": "code",
   "execution_count": null,
   "metadata": {},
   "outputs": [],
   "source": [
    "df_test = x_validation.drop( 'response', axis=1 )"
   ]
  },
  {
   "cell_type": "code",
   "execution_count": null,
   "metadata": {},
   "outputs": [],
   "source": [
    "df_test = pd.read_csv('C:\\\\Users\\\\Codo\\Desktop\\\\repos\\\\PA_health_insurance\\\\data\\\\test.csv')\n"
   ]
  },
  {
   "cell_type": "code",
   "execution_count": null,
   "metadata": {},
   "outputs": [],
   "source": [
    "df_test.info()"
   ]
  },
  {
   "cell_type": "code",
   "execution_count": null,
   "metadata": {},
   "outputs": [],
   "source": [
    "cols_old = ['id', 'Gender', 'Age', 'Driving_License', 'Region_Code',\n",
    "            'Previously_Insured', 'Vehicle_Age', 'Vehicle_Damage', 'Annual_Premium',\n",
    "            'Policy_Sales_Channel', 'Vintage']\n",
    "\n",
    "# Rename columns\n",
    "snakecase = lambda x: inflection.underscore(x)\n",
    "cols_new = list(map(snakecase, cols_old))\n",
    "df_test.columns = cols_new"
   ]
  },
  {
   "cell_type": "code",
   "execution_count": null,
   "metadata": {},
   "outputs": [],
   "source": [
    "df_test.head()"
   ]
  },
  {
   "cell_type": "code",
   "execution_count": null,
   "metadata": {},
   "outputs": [],
   "source": [
    "# vehicle_damage\n",
    "df_test['vehicle_damage'] = df_test['vehicle_damage'].apply( lambda x: 1 if x == 'Yes' else 0 )\n",
    "\n",
    "# vehicle_age\n",
    "df_test['vehicle_age'] = df_test['vehicle_age']. apply( lambda x: 'over_2_years' if x == '> 2 Years' else 'between_1_2_year' if x == '1-2 Year' else 'below_1_year' )"
   ]
  },
  {
   "cell_type": "code",
   "execution_count": null,
   "metadata": {},
   "outputs": [],
   "source": [
    "x_validation.head()"
   ]
  },
  {
   "cell_type": "code",
   "execution_count": null,
   "metadata": {},
   "outputs": [],
   "source": [
    "# convert dataframe to json\n",
    "data = json.dumps( df_test.to_dict( orient='records' ) )"
   ]
  },
  {
   "cell_type": "code",
   "execution_count": null,
   "metadata": {},
   "outputs": [],
   "source": [
    "df_test.head()"
   ]
  },
  {
   "cell_type": "code",
   "execution_count": null,
   "metadata": {},
   "outputs": [],
   "source": [
    "# API Call\n",
    "#url = 'http://192.168.0.202:5000/predict'\n",
    "url = 'https://p03-health-insurance-crosssell.herokuapp.com/predict'\n",
    "#url = 'https://health-insurance-model.herokuapp.com/predict'\n",
    "header = {'Content-type': 'application/json' }\n",
    "\n",
    "r = requests.post( url, data=data, headers=header )\n",
    "print( 'Status Code {}'.format( r.status_code ) )"
   ]
  },
  {
   "cell_type": "code",
   "execution_count": null,
   "metadata": {},
   "outputs": [],
   "source": [
    "d1 = pd.DataFrame( r.json(), columns=r.json()[0].keys() )\n",
    "d1.sort_values( 'score', ascending=False ).head()"
   ]
  }
 ],
 "metadata": {
  "kernelspec": {
   "display_name": "Python 3.10.4 ('env1')",
   "language": "python",
   "name": "python3"
  },
  "language_info": {
   "codemirror_mode": {
    "name": "ipython",
    "version": 3
   },
   "file_extension": ".py",
   "mimetype": "text/x-python",
   "name": "python",
   "nbconvert_exporter": "python",
   "pygments_lexer": "ipython3",
   "version": "3.10.4"
  },
  "orig_nbformat": 4,
  "vscode": {
   "interpreter": {
    "hash": "569c323637698a0631ee6c0d5044de14f120849a67ffe993a84312fdf1f40235"
   }
  }
 },
 "nbformat": 4,
 "nbformat_minor": 2
}
